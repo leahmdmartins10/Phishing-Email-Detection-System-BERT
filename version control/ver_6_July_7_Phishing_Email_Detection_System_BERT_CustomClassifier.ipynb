{
  "cells": [
    {
      "cell_type": "code",
      "execution_count": null,
      "metadata": {
        "colab": {
          "base_uri": "https://localhost:8080/"
        },
        "id": "7784ba17",
        "outputId": "40ad28fc-ca47-4328-b0f4-1c69d27af960"
      },
      "outputs": [
        {
          "output_type": "stream",
          "name": "stdout",
          "text": [
            "Default device for general processing: cpu\n",
            "Device for BERT training: cuda\n"
          ]
        }
      ],
      "source": [
        "import torch\n",
        "\n",
        "#Set CPU as default device\n",
        "default_device = torch.device(\"cpu\")\n",
        "\n",
        "#Set GPU for BERT training if available\n",
        "bert_device = torch.device(\"cuda\" if torch.cuda.is_available() else \"cpu\")\n",
        "\n",
        "print(f\"Default device for general processing: {default_device}\")\n",
        "print(f\"Device for BERT training: {bert_device}\")\n"
      ]
    },
    {
      "cell_type": "markdown",
      "metadata": {
        "id": "ATUNAnXVRrST"
      },
      "source": [
        "# 📧 Phishing Email Detection System Using BERT\n",
        "\n",
        "In this project, we aim to build a phishing email detection model using deep learning techniques, with a focus on the BERT (Bidirectional Encoder Representations from Transformers) architecture.\n",
        "\n",
        "Phishing emails are deceptive messages designed to trick users into revealing sensitive information. As attackers increasingly use AI to craft convincing emails, traditional rule-based filters fall short. This motivates the need for a more intelligent, language-aware detection system.\n",
        "\n",
        "We begin by loading and preprocessing real-world phishing and legitimate email datasets. After tokenizing the data, we will train and evaluate a fine-tuned BERT model, and compare its performance to a logistic regression baseline. Our objective is to build a model that accurately classifies emails as \"phishing\" or \"safe\" using language patterns and contextual understanding.\n",
        "\n",
        "\n",
        "\n"
      ]
    },
    {
      "cell_type": "code",
      "execution_count": null,
      "metadata": {
        "id": "7OEO-zjwEBxN"
      },
      "outputs": [],
      "source": [
        "from google.colab import userdata\n",
        "#KaggkeAPIKey = userdata.get('KaggleAPIKey')"
      ]
    },
    {
      "cell_type": "markdown",
      "metadata": {
        "id": "95AQtTcrR9Jj"
      },
      "source": [
        "---\n",
        "\n",
        "# Mounting the google drive\n",
        "We have to mount the google drive seeing as the files for the datasets are stored there"
      ]
    },
    {
      "cell_type": "code",
      "execution_count": null,
      "metadata": {
        "colab": {
          "base_uri": "https://localhost:8080/"
        },
        "collapsed": true,
        "id": "ELdb6e_bITxX",
        "outputId": "b5cc0d8c-c00c-4abe-c00d-08b653b378c2"
      },
      "outputs": [
        {
          "output_type": "stream",
          "name": "stdout",
          "text": [
            "Drive already mounted at /content/drive; to attempt to forcibly remount, call drive.mount(\"/content/drive\", force_remount=True).\n"
          ]
        }
      ],
      "source": [
        "from google.colab import drive\n",
        "drive.mount('/content/drive')\n"
      ]
    },
    {
      "cell_type": "markdown",
      "metadata": {
        "id": "-FEMWGefsz9T"
      },
      "source": [
        "---\n",
        "# Cleaning Data across Datasets\n",
        "Making all data sets consistent in labeling, data type and format:\n",
        "\n",
        "1. \"body\": Holds the body of all emails.\n",
        "2. \"urls\": Holds the boolean value for if a url is present or not (1: url, 0: no url)\n",
        "3. \"label\": Holds the boolen value for if an email is Phishing or Safe (1: phishing, 0 not phishing)\n",
        "\n",
        "\n",
        "- REMOVING UNPARSABLE/ ILLEGAL DATA\n",
        "- You can view all data at \"APS360_Final_Cleaned_Data\" in shared folder"
      ]
    },
    {
      "cell_type": "code",
      "execution_count": null,
      "metadata": {
        "colab": {
          "base_uri": "https://localhost:8080/"
        },
        "collapsed": true,
        "id": "djpJFjk_3HY0",
        "outputId": "bb61b4b7-d491-4883-ba6b-14577ecc65b3"
      },
      "outputs": [
        {
          "output_type": "stream",
          "name": "stdout",
          "text": [
            "Requirement already satisfied: xlsxwriter in /usr/local/lib/python3.11/dist-packages (3.2.5)\n",
            "Requirement already satisfied: pandas in /usr/local/lib/python3.11/dist-packages (2.2.2)\n",
            "Requirement already satisfied: openpyxl in /usr/local/lib/python3.11/dist-packages (3.1.5)\n",
            "Requirement already satisfied: numpy>=1.23.2 in /usr/local/lib/python3.11/dist-packages (from pandas) (2.0.2)\n",
            "Requirement already satisfied: python-dateutil>=2.8.2 in /usr/local/lib/python3.11/dist-packages (from pandas) (2.9.0.post0)\n",
            "Requirement already satisfied: pytz>=2020.1 in /usr/local/lib/python3.11/dist-packages (from pandas) (2025.2)\n",
            "Requirement already satisfied: tzdata>=2022.7 in /usr/local/lib/python3.11/dist-packages (from pandas) (2025.2)\n",
            "Requirement already satisfied: et-xmlfile in /usr/local/lib/python3.11/dist-packages (from openpyxl) (2.0.0)\n",
            "Requirement already satisfied: six>=1.5 in /usr/local/lib/python3.11/dist-packages (from python-dateutil>=2.8.2->pandas) (1.17.0)\n"
          ]
        }
      ],
      "source": [
        "!pip install xlsxwriter\n",
        "!pip install pandas openpyxl"
      ]
    },
    {
      "cell_type": "code",
      "execution_count": null,
      "metadata": {
        "colab": {
          "base_uri": "https://localhost:8080/"
        },
        "id": "PKAYArW12hB3",
        "outputId": "8f727b88-61b3-4faa-bb83-1f47e8c9e7b3"
      },
      "outputs": [
        {
          "output_type": "stream",
          "name": "stdout",
          "text": [
            "Done! Cleaned Excel file saved at:\n",
            "/content/drive/MyDrive/APS360 Notes/Datasets/APS360_Final_Cleaned_Data.xlsx\n"
          ]
        }
      ],
      "source": [
        "import os\n",
        "import pandas as pd\n",
        "import re\n",
        "\n",
        "#Folder with your CSVs\n",
        "source_folder = '/content/drive/MyDrive/APS360 Notes/Datasets'\n",
        "output_excel_path = os.path.join(source_folder, 'APS360_Final_Cleaned_Data.xlsx')\n",
        "\n",
        "#Create the directory if it doesn't exist\n",
        "os.makedirs(source_folder, exist_ok=True)\n",
        "\n",
        "#Patterns to detect illegal Excel characters and ANSI sequences\n",
        "ansi_pattern = re.compile(r'[\\x1B\\x1b]\\[[0-9;]*[A-Za-z]|[0-9]+;[0-9]+[Hf]')\n",
        "illegal_excel_chars = re.compile(r\"[\\x00-\\x08\\x0B-\\x1F]\")\n",
        "\n",
        "#Function to check if a row contains illegal characters\n",
        "def row_has_illegal_data(row):\n",
        "    return any(\n",
        "        ansi_pattern.search(str(cell)) or illegal_excel_chars.search(str(cell))\n",
        "        for cell in row\n",
        "    )\n",
        "\n",
        "#Create ExcelWriter object\n",
        "with pd.ExcelWriter(output_excel_path, engine='openpyxl') as writer:\n",
        "    for filename in os.listdir(source_folder):\n",
        "        if filename.endswith('.csv'):\n",
        "            filepath = os.path.join(source_folder, filename)\n",
        "\n",
        "            try:\n",
        "                df = pd.read_csv(filepath, on_bad_lines='skip', encoding='utf-8', engine='python')\n",
        "            except Exception as e:\n",
        "                print(f\"Skipping {filename} due to read error: {e}\")\n",
        "                continue\n",
        "\n",
        "            #Drop rows with illegal characters\n",
        "            df = df[~df.apply(row_has_illegal_data, axis=1)]\n",
        "\n",
        "            #Clean and rename columns\n",
        "            df.columns = [col.strip() for col in df.columns]\n",
        "            col_map = {}\n",
        "            for col in df.columns:\n",
        "                if col.lower() in ['email text', 'text']:\n",
        "                    col_map[col] = 'body'\n",
        "                elif col.lower() == 'email type':\n",
        "                    col_map[col] = 'label'\n",
        "            df = df.rename(columns=col_map)\n",
        "\n",
        "            #Add 'urls' column if missing\n",
        "            if 'urls' not in df.columns and 'body' in df.columns:\n",
        "                df['urls'] = df['body'].astype(str).apply(lambda x: 1 if 'http' in x else 0)\n",
        "\n",
        "            #Keep only ['body', 'urls', 'label']\n",
        "            keep_cols = [col for col in ['body', 'urls', 'label'] if col in df.columns]\n",
        "            df = df[keep_cols]\n",
        "\n",
        "            #Write sheet to Excel\n",
        "            sheet_name = os.path.splitext(filename)[0][:31]\n",
        "            try:\n",
        "                df.to_excel(writer, sheet_name=sheet_name, index=False)\n",
        "            except Exception as e:\n",
        "                print(f\"Failed to write sheet for {filename}: {e}\")\n",
        "\n",
        "print(f\"Done! Cleaned Excel file saved at:\\n{output_excel_path}\")"
      ]
    },
    {
      "cell_type": "markdown",
      "metadata": {
        "id": "IpSuinQe1vKb"
      },
      "source": [
        "---\n",
        "#Combine Data into One Large Dataset\n",
        "\n",
        "- Takes all csv files and merges into one giant data set.\n",
        "- Removes empty and null rows.\n",
        "- Randomly shuffles and rearranges data.\n",
        "- Makes sure that \"label\" and \"urls\" data is numerical later processing"
      ]
    },
    {
      "cell_type": "code",
      "execution_count": null,
      "metadata": {
        "id": "MTgcBQzS-Cpb"
      },
      "outputs": [],
      "source": [
        "#This is a function Force string/int labels to integer 0 or 1\n",
        "#Will be used later in combination (for cleaning purposes)\n",
        "\n",
        "def clean_numerics(x):\n",
        "    x_str = str(x).strip().lower()\n",
        "    if x_str in ['1', 'phishing email']:\n",
        "        return 1\n",
        "    elif x_str in ['0', 'safe email']:\n",
        "        return 0\n",
        "    else:\n",
        "        return 0"
      ]
    },
    {
      "cell_type": "code",
      "execution_count": null,
      "metadata": {
        "id": "y6EwNNSm11UB"
      },
      "outputs": [],
      "source": [
        "#Load all sheets\n",
        "all_sheets = pd.read_excel(output_excel_path, sheet_name=None)\n",
        "\n",
        "#Concatenate all sheets into one DataFrame\n",
        "phishing_df = pd.concat(all_sheets.values(), ignore_index=True)\n",
        "\n",
        "#Drop rows with missing values (if any)\n",
        "phishing_df = phishing_df.dropna()\n",
        "\n",
        "#Shuffle dataset\n",
        "phishing_df = phishing_df.sample(frac=1, random_state=42).reset_index(drop=True)\n",
        "\n",
        "#Checks that this data is numerical\n",
        "phishing_df['label'] = phishing_df['label'].apply(clean_numerics)\n",
        "phishing_df['urls'] = phishing_df['urls'].apply(clean_numerics)\n"
      ]
    },
    {
      "cell_type": "markdown",
      "metadata": {
        "id": "MIjBoOuuDN5t"
      },
      "source": [
        "---\n",
        "#Split Tensor Data into Training Validation and Testing Datasets\n",
        "\n",
        "- Randomly split the encoded email data into 70% training, 15% validation, and 15% test sets.\n",
        "- Each split contains input tensors from the tokenization (input_ids, attention_mask) along with corresponding labels and URL indicators (from phishing_df ).\n",
        "- This prepares the data for use in training and evaluating an AI classification model.\n",
        "\n",
        "\n"
      ]
    },
    {
      "cell_type": "code",
      "execution_count": null,
      "metadata": {
        "id": "8SAKxCtwDZ5A"
      },
      "outputs": [],
      "source": [
        "from sklearn.model_selection import train_test_split\n",
        "import torch\n",
        "\n",
        "#Convert labels and urls to tensors\n",
        "label = torch.tensor(phishing_df['label'].values)\n",
        "urls = torch.tensor(phishing_df['urls'].values)\n",
        "\n",
        "#First split into training data for 70% and temp data (vaidation + testing) for 30%\n",
        "train_idx, temp_idx = train_test_split(range(len(label)), test_size=0.3, random_state=42)\n",
        "\n",
        "#Then split temp into validation and testing 15% each\n",
        "val_idx, test_idx = train_test_split(temp_idx, test_size=0.5, random_state=42)\n"
      ]
    },
    {
      "cell_type": "code",
      "execution_count": null,
      "metadata": {
        "id": "X_NseqZUK7_u"
      },
      "outputs": [],
      "source": [
        "# splitting the bodies for train, val, and test data\n",
        "train_bodies = phishing_df['body'][train_idx].tolist()\n",
        "val_bodies = phishing_df['body'][val_idx].tolist()\n",
        "test_bodies = phishing_df['body'][test_idx].tolist()\n",
        "\n",
        "# converting the training, val, and test urls and labels to tensors\n",
        "train_urls = torch.tensor(phishing_df['urls'][train_idx].tolist())\n",
        "train_labels = torch.tensor(phishing_df['label'][train_idx].tolist())\n",
        "\n",
        "\n",
        "val_urls = torch.tensor(phishing_df['urls'][val_idx].tolist())\n",
        "val_labels = torch.tensor(phishing_df['label'][val_idx].tolist())\n",
        "\n",
        "\n",
        "test_urls = torch.tensor(phishing_df['urls'][test_idx].tolist())\n",
        "test_labels = torch.tensor(phishing_df['label'][test_idx].tolist())"
      ]
    },
    {
      "cell_type": "code",
      "source": [
        "N = {len(phishing_df)}\n",
        "phishing_df['urls'].value_counts()\n",
        "phishing_df['label'].value_counts()\n",
        "\n",
        "print(\"Number of emails\", N)\n",
        "print(\"\\n\")\n",
        "print(\"Number of phishing emails\", phishing_df['label'].value_counts()[1])\n",
        "print(\"Number of safe emails\", phishing_df['label'].value_counts()[0])\n",
        "print(\"\\n\")\n",
        "print(\"Number of emails with urls\", phishing_df['urls'].value_counts()[1])\n",
        "print(\"Number of emails without urls\", phishing_df['urls'].value_counts()[0])\n",
        "# Display first 5 cleaned samples\n",
        "phishing_df.head()\n"
      ],
      "metadata": {
        "colab": {
          "base_uri": "https://localhost:8080/",
          "height": 363
        },
        "id": "AGC-9fQrNnW2",
        "outputId": "4cf337ed-d32a-4066-a36e-299235496a46"
      },
      "execution_count": null,
      "outputs": [
        {
          "output_type": "stream",
          "name": "stdout",
          "text": [
            "Number of emails {67126}\n",
            "\n",
            "\n",
            "Number of phishing emails 36604\n",
            "Number of safe emails 30522\n",
            "\n",
            "\n",
            "Number of emails with urls 38111\n",
            "Number of emails without urls 29015\n"
          ]
        },
        {
          "output_type": "execute_result",
          "data": {
            "text/plain": [
              "                                                body  urls  label\n",
              "0  \\nThey look and feel exactly like the real thi...     1      1\n",
              "1  \\n\\n\\nCNN Alerts: My Custom Alert\\n\\n\\n\\n\\n\\n\\...     0      1\n",
              "2  Ranked #1 Men's Supplement by GQ in 2007, disc...     1      1\n",
              "3  No girl will now resist a temptation to go wit...     1      1\n",
              "4  Dear Sarah, I hope this email finds you well. ...     1      0"
            ],
            "text/html": [
              "\n",
              "  <div id=\"df-bdb80670-3b41-4c66-b42d-4851e3150c44\" class=\"colab-df-container\">\n",
              "    <div>\n",
              "<style scoped>\n",
              "    .dataframe tbody tr th:only-of-type {\n",
              "        vertical-align: middle;\n",
              "    }\n",
              "\n",
              "    .dataframe tbody tr th {\n",
              "        vertical-align: top;\n",
              "    }\n",
              "\n",
              "    .dataframe thead th {\n",
              "        text-align: right;\n",
              "    }\n",
              "</style>\n",
              "<table border=\"1\" class=\"dataframe\">\n",
              "  <thead>\n",
              "    <tr style=\"text-align: right;\">\n",
              "      <th></th>\n",
              "      <th>body</th>\n",
              "      <th>urls</th>\n",
              "      <th>label</th>\n",
              "    </tr>\n",
              "  </thead>\n",
              "  <tbody>\n",
              "    <tr>\n",
              "      <th>0</th>\n",
              "      <td>\\nThey look and feel exactly like the real thi...</td>\n",
              "      <td>1</td>\n",
              "      <td>1</td>\n",
              "    </tr>\n",
              "    <tr>\n",
              "      <th>1</th>\n",
              "      <td>\\n\\n\\nCNN Alerts: My Custom Alert\\n\\n\\n\\n\\n\\n\\...</td>\n",
              "      <td>0</td>\n",
              "      <td>1</td>\n",
              "    </tr>\n",
              "    <tr>\n",
              "      <th>2</th>\n",
              "      <td>Ranked #1 Men's Supplement by GQ in 2007, disc...</td>\n",
              "      <td>1</td>\n",
              "      <td>1</td>\n",
              "    </tr>\n",
              "    <tr>\n",
              "      <th>3</th>\n",
              "      <td>No girl will now resist a temptation to go wit...</td>\n",
              "      <td>1</td>\n",
              "      <td>1</td>\n",
              "    </tr>\n",
              "    <tr>\n",
              "      <th>4</th>\n",
              "      <td>Dear Sarah, I hope this email finds you well. ...</td>\n",
              "      <td>1</td>\n",
              "      <td>0</td>\n",
              "    </tr>\n",
              "  </tbody>\n",
              "</table>\n",
              "</div>\n",
              "    <div class=\"colab-df-buttons\">\n",
              "\n",
              "  <div class=\"colab-df-container\">\n",
              "    <button class=\"colab-df-convert\" onclick=\"convertToInteractive('df-bdb80670-3b41-4c66-b42d-4851e3150c44')\"\n",
              "            title=\"Convert this dataframe to an interactive table.\"\n",
              "            style=\"display:none;\">\n",
              "\n",
              "  <svg xmlns=\"http://www.w3.org/2000/svg\" height=\"24px\" viewBox=\"0 -960 960 960\">\n",
              "    <path d=\"M120-120v-720h720v720H120Zm60-500h600v-160H180v160Zm220 220h160v-160H400v160Zm0 220h160v-160H400v160ZM180-400h160v-160H180v160Zm440 0h160v-160H620v160ZM180-180h160v-160H180v160Zm440 0h160v-160H620v160Z\"/>\n",
              "  </svg>\n",
              "    </button>\n",
              "\n",
              "  <style>\n",
              "    .colab-df-container {\n",
              "      display:flex;\n",
              "      gap: 12px;\n",
              "    }\n",
              "\n",
              "    .colab-df-convert {\n",
              "      background-color: #E8F0FE;\n",
              "      border: none;\n",
              "      border-radius: 50%;\n",
              "      cursor: pointer;\n",
              "      display: none;\n",
              "      fill: #1967D2;\n",
              "      height: 32px;\n",
              "      padding: 0 0 0 0;\n",
              "      width: 32px;\n",
              "    }\n",
              "\n",
              "    .colab-df-convert:hover {\n",
              "      background-color: #E2EBFA;\n",
              "      box-shadow: 0px 1px 2px rgba(60, 64, 67, 0.3), 0px 1px 3px 1px rgba(60, 64, 67, 0.15);\n",
              "      fill: #174EA6;\n",
              "    }\n",
              "\n",
              "    .colab-df-buttons div {\n",
              "      margin-bottom: 4px;\n",
              "    }\n",
              "\n",
              "    [theme=dark] .colab-df-convert {\n",
              "      background-color: #3B4455;\n",
              "      fill: #D2E3FC;\n",
              "    }\n",
              "\n",
              "    [theme=dark] .colab-df-convert:hover {\n",
              "      background-color: #434B5C;\n",
              "      box-shadow: 0px 1px 3px 1px rgba(0, 0, 0, 0.15);\n",
              "      filter: drop-shadow(0px 1px 2px rgba(0, 0, 0, 0.3));\n",
              "      fill: #FFFFFF;\n",
              "    }\n",
              "  </style>\n",
              "\n",
              "    <script>\n",
              "      const buttonEl =\n",
              "        document.querySelector('#df-bdb80670-3b41-4c66-b42d-4851e3150c44 button.colab-df-convert');\n",
              "      buttonEl.style.display =\n",
              "        google.colab.kernel.accessAllowed ? 'block' : 'none';\n",
              "\n",
              "      async function convertToInteractive(key) {\n",
              "        const element = document.querySelector('#df-bdb80670-3b41-4c66-b42d-4851e3150c44');\n",
              "        const dataTable =\n",
              "          await google.colab.kernel.invokeFunction('convertToInteractive',\n",
              "                                                    [key], {});\n",
              "        if (!dataTable) return;\n",
              "\n",
              "        const docLinkHtml = 'Like what you see? Visit the ' +\n",
              "          '<a target=\"_blank\" href=https://colab.research.google.com/notebooks/data_table.ipynb>data table notebook</a>'\n",
              "          + ' to learn more about interactive tables.';\n",
              "        element.innerHTML = '';\n",
              "        dataTable['output_type'] = 'display_data';\n",
              "        await google.colab.output.renderOutput(dataTable, element);\n",
              "        const docLink = document.createElement('div');\n",
              "        docLink.innerHTML = docLinkHtml;\n",
              "        element.appendChild(docLink);\n",
              "      }\n",
              "    </script>\n",
              "  </div>\n",
              "\n",
              "\n",
              "    <div id=\"df-857a6a4d-eb13-4263-9bf8-16203bd621e0\">\n",
              "      <button class=\"colab-df-quickchart\" onclick=\"quickchart('df-857a6a4d-eb13-4263-9bf8-16203bd621e0')\"\n",
              "                title=\"Suggest charts\"\n",
              "                style=\"display:none;\">\n",
              "\n",
              "<svg xmlns=\"http://www.w3.org/2000/svg\" height=\"24px\"viewBox=\"0 0 24 24\"\n",
              "     width=\"24px\">\n",
              "    <g>\n",
              "        <path d=\"M19 3H5c-1.1 0-2 .9-2 2v14c0 1.1.9 2 2 2h14c1.1 0 2-.9 2-2V5c0-1.1-.9-2-2-2zM9 17H7v-7h2v7zm4 0h-2V7h2v10zm4 0h-2v-4h2v4z\"/>\n",
              "    </g>\n",
              "</svg>\n",
              "      </button>\n",
              "\n",
              "<style>\n",
              "  .colab-df-quickchart {\n",
              "      --bg-color: #E8F0FE;\n",
              "      --fill-color: #1967D2;\n",
              "      --hover-bg-color: #E2EBFA;\n",
              "      --hover-fill-color: #174EA6;\n",
              "      --disabled-fill-color: #AAA;\n",
              "      --disabled-bg-color: #DDD;\n",
              "  }\n",
              "\n",
              "  [theme=dark] .colab-df-quickchart {\n",
              "      --bg-color: #3B4455;\n",
              "      --fill-color: #D2E3FC;\n",
              "      --hover-bg-color: #434B5C;\n",
              "      --hover-fill-color: #FFFFFF;\n",
              "      --disabled-bg-color: #3B4455;\n",
              "      --disabled-fill-color: #666;\n",
              "  }\n",
              "\n",
              "  .colab-df-quickchart {\n",
              "    background-color: var(--bg-color);\n",
              "    border: none;\n",
              "    border-radius: 50%;\n",
              "    cursor: pointer;\n",
              "    display: none;\n",
              "    fill: var(--fill-color);\n",
              "    height: 32px;\n",
              "    padding: 0;\n",
              "    width: 32px;\n",
              "  }\n",
              "\n",
              "  .colab-df-quickchart:hover {\n",
              "    background-color: var(--hover-bg-color);\n",
              "    box-shadow: 0 1px 2px rgba(60, 64, 67, 0.3), 0 1px 3px 1px rgba(60, 64, 67, 0.15);\n",
              "    fill: var(--button-hover-fill-color);\n",
              "  }\n",
              "\n",
              "  .colab-df-quickchart-complete:disabled,\n",
              "  .colab-df-quickchart-complete:disabled:hover {\n",
              "    background-color: var(--disabled-bg-color);\n",
              "    fill: var(--disabled-fill-color);\n",
              "    box-shadow: none;\n",
              "  }\n",
              "\n",
              "  .colab-df-spinner {\n",
              "    border: 2px solid var(--fill-color);\n",
              "    border-color: transparent;\n",
              "    border-bottom-color: var(--fill-color);\n",
              "    animation:\n",
              "      spin 1s steps(1) infinite;\n",
              "  }\n",
              "\n",
              "  @keyframes spin {\n",
              "    0% {\n",
              "      border-color: transparent;\n",
              "      border-bottom-color: var(--fill-color);\n",
              "      border-left-color: var(--fill-color);\n",
              "    }\n",
              "    20% {\n",
              "      border-color: transparent;\n",
              "      border-left-color: var(--fill-color);\n",
              "      border-top-color: var(--fill-color);\n",
              "    }\n",
              "    30% {\n",
              "      border-color: transparent;\n",
              "      border-left-color: var(--fill-color);\n",
              "      border-top-color: var(--fill-color);\n",
              "      border-right-color: var(--fill-color);\n",
              "    }\n",
              "    40% {\n",
              "      border-color: transparent;\n",
              "      border-right-color: var(--fill-color);\n",
              "      border-top-color: var(--fill-color);\n",
              "    }\n",
              "    60% {\n",
              "      border-color: transparent;\n",
              "      border-right-color: var(--fill-color);\n",
              "    }\n",
              "    80% {\n",
              "      border-color: transparent;\n",
              "      border-right-color: var(--fill-color);\n",
              "      border-bottom-color: var(--fill-color);\n",
              "    }\n",
              "    90% {\n",
              "      border-color: transparent;\n",
              "      border-bottom-color: var(--fill-color);\n",
              "    }\n",
              "  }\n",
              "</style>\n",
              "\n",
              "      <script>\n",
              "        async function quickchart(key) {\n",
              "          const quickchartButtonEl =\n",
              "            document.querySelector('#' + key + ' button');\n",
              "          quickchartButtonEl.disabled = true;  // To prevent multiple clicks.\n",
              "          quickchartButtonEl.classList.add('colab-df-spinner');\n",
              "          try {\n",
              "            const charts = await google.colab.kernel.invokeFunction(\n",
              "                'suggestCharts', [key], {});\n",
              "          } catch (error) {\n",
              "            console.error('Error during call to suggestCharts:', error);\n",
              "          }\n",
              "          quickchartButtonEl.classList.remove('colab-df-spinner');\n",
              "          quickchartButtonEl.classList.add('colab-df-quickchart-complete');\n",
              "        }\n",
              "        (() => {\n",
              "          let quickchartButtonEl =\n",
              "            document.querySelector('#df-857a6a4d-eb13-4263-9bf8-16203bd621e0 button');\n",
              "          quickchartButtonEl.style.display =\n",
              "            google.colab.kernel.accessAllowed ? 'block' : 'none';\n",
              "        })();\n",
              "      </script>\n",
              "    </div>\n",
              "\n",
              "    </div>\n",
              "  </div>\n"
            ],
            "application/vnd.google.colaboratory.intrinsic+json": {
              "type": "dataframe",
              "variable_name": "phishing_df",
              "summary": "{\n  \"name\": \"phishing_df\",\n  \"rows\": 67126,\n  \"fields\": [\n    {\n      \"column\": \"body\",\n      \"properties\": {\n        \"dtype\": \"string\",\n        \"num_unique_values\": 63180,\n        \"samples\": [\n          \"Carlos E. R. wrote: > -----BEGIN PGP SIGNED MESSAGE----- > Hash: SHA1 >  >  >  > The Thursday 2008-02-14 at 17:52 +0100, Per Jessen wrote: >  >>> A PC uses a switch mode power supply, quite big, taking power in a >>> strange waveform, and this may confuse heavily cheap meters (and not >>> so cheap). Difficult to say. >> >> I think the load on the mains supply is actually pretty straight. >  > I'm not so sure, but never mind. Se bellow. >  >>> A definitive test, in your case, would be to connect a scope on the +5 >>> and +12 rails (perhaps 3.2? line). A spike going down in the +5 would >>> provoke an instant reset. >> >> Hmmm, I could do that, but I've only got a normal scope (no storage), so >> I'd have to sit and watch it.  Maybe. >  > I'm thinking that the power measured at the input is not important at  > all. The important figures are the amperage capacity on each of the DC  > output lines, and that's the power that has to be matched to the load,  > and where the measurements are important. The AC side is irrelevant,  > somehow. >  > As to the scope, yes, that would be enough, but of course, you have to  > be looking at it. Set a slow H speed. Humm... a digital gadget (multiple  > A/D) connected to another PC would be _very_ nice. They are not so  > expensive as they were time ago... >  > Argh. I have a good A/D, D/A card, but it is for ISA bus, and MsDOS  > drivers. Pity! I can not experiment with it in Linux, too late... no hw  > isa bus. Could be worse...could be S-100! :-) Carlos, I'll bet you could make a USB<==>ISA bus adapter.\",\n          \"On Wed, Feb 20, 2008 at 09:24:28AM -0800, pichels wrote: > /usr/lib/perl5/site_perl/5.6.1/Mail/SpamAssassin/Message/Node.pm line 119. > Learned tokens from 0 message(s) (1 message(s) examined) >  > So, I found a post that explained this was a bug and to pach the Node.pm > file and so I patched it: > http://issues.apache.org/SpamAssassin/show_bug.cgi?id=5823 bug 5823 isn't related to Message::Node > [wnlqzs@mail spam-email]$ sa-learn --spam < mosconj-022008-1  > Learned tokens from 0 message(s) (1 message(s) examined) It could mean that the message was already learned. > However, why does SA with debug and lint score the email? >         *  2.5 MISSING_HB_SEP Missing blank line between message header and body It is exceedingly likely that your input message is malformed.  If you can pastebot the message somewhere, we can look at it for you and let you know. --  Randomly Selected Tagline: \\\"That's why I don't like video's - no commercial to read through.\\\"                                                  - Robert Gombert\",\n          \"re : 6 . 933 , misc : english only , a footnote on banning of german a brief comment on on banning german in the us midwest during wartime : kurt vonnegut 's semi-autobiographical _ slapstick _ mentions how his german - speaking family self-censored the german out of their speech , music , etc . loren billings billings @ princeton . edu billings @ pucc . bitnet\"\n        ],\n        \"semantic_type\": \"\",\n        \"description\": \"\"\n      }\n    },\n    {\n      \"column\": \"urls\",\n      \"properties\": {\n        \"dtype\": \"number\",\n        \"std\": 0,\n        \"min\": 0,\n        \"max\": 1,\n        \"num_unique_values\": 2,\n        \"samples\": [\n          0,\n          1\n        ],\n        \"semantic_type\": \"\",\n        \"description\": \"\"\n      }\n    },\n    {\n      \"column\": \"label\",\n      \"properties\": {\n        \"dtype\": \"number\",\n        \"std\": 0,\n        \"min\": 0,\n        \"max\": 1,\n        \"num_unique_values\": 2,\n        \"samples\": [\n          0,\n          1\n        ],\n        \"semantic_type\": \"\",\n        \"description\": \"\"\n      }\n    }\n  ]\n}"
            }
          },
          "metadata": {},
          "execution_count": 27
        }
      ]
    },
    {
      "cell_type": "code",
      "source": [
        "import matplotlib.pyplot as plt\n",
        "\n",
        "\"\"\"PLOT PIE CHART OF PHISHING VS SAFE EMAILS\"\"\"\n",
        "\n",
        "#Data\n",
        "labels = ['Phishing', 'Safe']\n",
        "values = [phishing_df['label'].value_counts()[1], phishing_df['label'].value_counts()[0]]\n",
        "\n",
        "#Plot\n",
        "plt.figure(figsize=(8, 6))\n",
        "plt.pie(values, labels=labels, autopct='%1.1f%%', startangle=140)\n",
        "plt.title('Proportion of Phishing vs Safe Emails')\n",
        "plt.show()\n",
        "\n",
        "\n",
        "\n",
        "\"\"\"PLOT BAR GRAPH OF URLS\"\"\"\n",
        "\n",
        "#Count combinations of label and url presence\n",
        "group_counts = phishing_df.groupby(['label', 'urls']).size().unstack(fill_value=0)\n",
        "\n",
        "#Data\n",
        "labels = ['Phishing', 'Safe']  # label 1 = Phishing, 0 = Safe\n",
        "with_urls = [group_counts.loc[1, 1], group_counts.loc[0, 1]]\n",
        "without_urls = [group_counts.loc[1, 0], group_counts.loc[0, 0]]\n",
        "\n",
        "x = range(len(labels))  # [0, 1]\n",
        "bar_width = 0.35\n",
        "\n",
        "#Plot bars\n",
        "plt.figure(figsize=(8, 6))\n",
        "bars1 = plt.bar([i - bar_width/2 for i in x], without_urls, width=bar_width, label='URLs Not Present', color='purple')\n",
        "bars2 = plt.bar([i + bar_width/2 for i in x], with_urls, width=bar_width, label='URLs Present', color='pink')\n",
        "\n",
        "#Add value labels on top of bars\n",
        "for bars in [bars1, bars2]:\n",
        "    for bar in bars:\n",
        "        height = bar.get_height()\n",
        "        plt.text(bar.get_x() + bar.get_width()/2, height + 100, f'{height:,}',  # add comma to large numbers\n",
        "                 ha='center', va='bottom', fontsize=10)\n",
        "\n",
        "#Formatting\n",
        "plt.xticks(x, labels)\n",
        "plt.ylabel('Number of Emails')\n",
        "plt.title('URL Presence in Phishing vs Safe Emails')\n",
        "plt.legend()\n",
        "plt.grid(axis='y')\n",
        "plt.tight_layout()\n",
        "plt.show()\n",
        "\n"
      ],
      "metadata": {
        "colab": {
          "base_uri": "https://localhost:8080/",
          "height": 1000
        },
        "id": "V47NVmYaQFle",
        "outputId": "c133340e-2c25-4099-8377-622ed7328cf1"
      },
      "execution_count": null,
      "outputs": [
        {
          "output_type": "display_data",
          "data": {
            "text/plain": [
              "<Figure size 800x600 with 1 Axes>"
            ],
            "image/png": "[encoded data removed]"
          },
          "metadata": {}
        },
        {
          "output_type": "display_data",
          "data": {
            "text/plain": [
              "<Figure size 800x600 with 1 Axes>"
            ],
            "image/png": "[encoded data removed]"
          },
          "metadata": {}
        }
      ]
    },
    {
      "cell_type": "markdown",
      "metadata": {
        "id": "fDcf_h7TNIMz"
      },
      "source": [
        "---\n",
        "# **Tokenize the training, validation, and testing bodies**\n",
        "We are now tokenizing the data that we have previously split.\n",
        "\n",
        "We are creating classes that define how to tokenize the data but this will not actually occur until the BERT model is used. The class highlights the main functionality:\n",
        "\n",
        "\n",
        "**Initialization**: Initialize the dataset with text data, URLs, labels, and tokenizer.\n",
        "\n",
        "        Args:\n",
        "        - texts (List[str]): List of email bodies.\n",
        "        - urls (List[str] or similar): Corresponding list of URLs in the emails.\n",
        "        - labels (List[int]): Labels (e.g., 0 for ham, 1 for phishing).\n",
        "        - tokenizer (BertTokenizer): Pretrained BERT tokenizer.\n",
        "        - max_length (int): Maximum sequence length for padding/truncation.\n",
        "\n",
        "\n",
        "**Retrival/Tokenization:** Retrieve a single sample from the dataset and tokenize it.\n",
        "\n",
        "        Args:\n",
        "        - idx (int): Index of the sample to fetch.\n",
        "\n",
        "        Returns:\n",
        "        - A dictionary containing:\n",
        "          - 'input_ids': token IDs for the text\n",
        "          - 'attention_mask': binary mask for padded tokens\n",
        "          - 'urls': original URL\n",
        "          - 'labels': ground truth label\n",
        "       "
      ]
    },
    {
      "cell_type": "code",
      "execution_count": null,
      "metadata": {
        "id": "ebf7ddf6",
        "colab": {
          "base_uri": "https://localhost:8080/",
          "height": 269,
          "referenced_widgets": [
            "18b2e3064ffe4ce2a1735b9c44a974db",
            "80faba5e23534f22a653196ecb232bd6",
            "a5148ef2d20d4ddfad7329cc2a191297",
            "9bfc8165e99a4e8085c3d13753c1e1ea",
            "666382d015ed4905baf3e51e021682f4",
            "df5297a0dbf14a05932f83200a98ee8a",
            "9f1dd62f55ac48b4aa56ba21192ed3c6",
            "0ac06a6d0aee4259952837f9c3d76b42",
            "05592cbe81734bb69bdf83d7a77d0e20",
            "84850a9e2dd3428a8cc047623ad248a1",
            "bfbb678b2f574bb39d2a2db2d2e6a544",
            "f43b61ffe09b4447b1969e16d30ca278",
            "4d37efb25ee847258a3fbce2a6954d6a",
            "edff0b25362444fa9c4b6c6a286cf6ec",
            "51d7c1a1008f4bdfaf1bf029790cd431",
            "29af4434f8654d9ea1cdb63f1c046fdd",
            "3c764aed011b46ad91728ba9da2ff5a2",
            "dbae4dbb6e9f414489be420ce5ecb343",
            "f630c84fb9204166be43260f907de950",
            "f413ba09c6a94b07aa6a4c6d1bd7fb71",
            "51488d41f7464fd99ef146641f619881",
            "3c1b3bf187f64afa98910d3509804bd3",
            "2d612456d5604f388af5cad790f14bcc",
            "e6d3774d7f984ef08972f4b25d83bbb8",
            "d3e649a0b72d4ebb8bc2d2c000cb1d3c",
            "0606290e223e47c683129be932ee2a40",
            "1d49fc6384d94dffbfc8d5b61444bdaf",
            "12c96ecb5efa499f83677983dc07167b",
            "dd86d20c41bb41a5a6d0b5842191e465",
            "8ac61ca8951f4f2cb1687f7d707b742d",
            "a283f4e132614008b8556c72bf143636",
            "760d65c71cc54e078c51251d859c6ca3",
            "5f6f381b3982453fa5b642ee6874b83b",
            "0034f46b892f41da9573acb4d670b629",
            "b8ba5eee15ba4e0298752d8b04d8c0aa",
            "3e31ae3ff7384f6db8be8c26b9c84221",
            "8867ac60aa52449fb71c186c85ff9394",
            "35282333d63948ab8c6e5637034d02e3",
            "920ac15be6aa4de581cadf9cf86b2503",
            "6f6fd98ac69e43be9b47410c134683f2",
            "fe1b08144b3a4a8498f00c2b0861a704",
            "3c999991e0d646428f3c76181764c4a2",
            "d10e840bcfe14105ad2b766a69a2dd38",
            "e410e2ac35f0494c95c38d256be0782b"
          ]
        },
        "outputId": "6bff1896-d9f3-41d3-ab71-a96dbf6d348b"
      },
      "outputs": [
        {
          "output_type": "stream",
          "name": "stderr",
          "text": [
            "/usr/local/lib/python3.11/dist-packages/huggingface_hub/utils/_auth.py:94: UserWarning: \n",
            "The secret `HF_TOKEN` does not exist in your Colab secrets.\n",
            "To authenticate with the Hugging Face Hub, create a token in your settings tab (https://huggingface.co/settings/tokens), set it as secret in your Google Colab and restart your session.\n",
            "You will be able to reuse this secret in all of your notebooks.\n",
            "Please note that authentication is recommended but still optional to access public models or datasets.\n",
            "  warnings.warn(\n"
          ]
        },
        {
          "output_type": "display_data",
          "data": {
            "text/plain": [
              "tokenizer_config.json:   0%|          | 0.00/48.0 [00:00<?, ?B/s]"
            ],
            "application/vnd.jupyter.widget-view+json": {
              "version_major": 2,
              "version_minor": 0,
              "model_id": "18b2e3064ffe4ce2a1735b9c44a974db"
            }
          },
          "metadata": {}
        },
        {
          "output_type": "display_data",
          "data": {
            "text/plain": [
              "vocab.txt:   0%|          | 0.00/232k [00:00<?, ?B/s]"
            ],
            "application/vnd.jupyter.widget-view+json": {
              "version_major": 2,
              "version_minor": 0,
              "model_id": "f43b61ffe09b4447b1969e16d30ca278"
            }
          },
          "metadata": {}
        },
        {
          "output_type": "display_data",
          "data": {
            "text/plain": [
              "tokenizer.json:   0%|          | 0.00/466k [00:00<?, ?B/s]"
            ],
            "application/vnd.jupyter.widget-view+json": {
              "version_major": 2,
              "version_minor": 0,
              "model_id": "2d612456d5604f388af5cad790f14bcc"
            }
          },
          "metadata": {}
        },
        {
          "output_type": "display_data",
          "data": {
            "text/plain": [
              "config.json:   0%|          | 0.00/570 [00:00<?, ?B/s]"
            ],
            "application/vnd.jupyter.widget-view+json": {
              "version_major": 2,
              "version_minor": 0,
              "model_id": "0034f46b892f41da9573acb4d670b629"
            }
          },
          "metadata": {}
        }
      ],
      "source": [
        "from torch.utils.data import Dataset, DataLoader, RandomSampler, SequentialSampler\n",
        "from transformers import BertTokenizer\n",
        "\n",
        "#Load the pretrained BERT tokenizer (lowercase version of BERT)\n",
        "tokenizer = BertTokenizer.from_pretrained('bert-base-uncased')\n",
        "\n",
        "#Define a custom dataset class for phishing email detection\n",
        "class PhishingEmailDataset(Dataset):\n",
        "    def __init__(self, texts, urls, labels, tokenizer, max_length=256):\n",
        "        #Initialize the dataset with text data, URLs, labels, and tokenizer.\n",
        "        self.texts = texts\n",
        "        self.urls = urls\n",
        "        self.labels = labels\n",
        "        self.tokenizer = tokenizer\n",
        "        self.max_length = max_length\n",
        "\n",
        "    def __len__(self):\n",
        "        #Return the total number of samples in the dataset\n",
        "        return len(self.texts)\n",
        "\n",
        "    def __getitem__(self, idx):\n",
        "\n",
        "        #Retrieve a single sample from the dataset and tokenize it.\n",
        "\n",
        "        encoding = self.tokenizer(\n",
        "            self.texts[idx],              #The email body\n",
        "            truncation=True,             #Truncate if it exceeds max_length\n",
        "            padding='max_length',        #Pad to max_length\n",
        "            max_length=self.max_length,  #Set max sequence length\n",
        "            return_tensors='pt'          #Return PyTorch tensors\n",
        "        )\n",
        "        return {\n",
        "            'input_ids': encoding['input_ids'].squeeze(),            #Token IDs (squeezed to remove extra dimension)\n",
        "            'attention_mask': encoding['attention_mask'].squeeze(),  #Attention mask (squeezed)\n",
        "            'urls': self.urls[idx],                                  #Corresponding URL\n",
        "            'labels': self.labels[idx]                               #Label for classification\n",
        "        }\n",
        "\n",
        "#These assume you have train_bodies, train_urls, and train_labels already defined\n",
        "train_dataset = PhishingEmailDataset(train_bodies, train_urls, train_labels, tokenizer)\n",
        "val_dataset   = PhishingEmailDataset(val_bodies, val_urls, val_labels, tokenizer)\n",
        "test_dataset  = PhishingEmailDataset(test_bodies, test_urls, test_labels, tokenizer)\n",
        "\n",
        "\n",
        "batch_size = 8  #Number of samples per batch\n",
        "\n",
        "#For training\n",
        "train_loader = DataLoader(\n",
        "    train_dataset,\n",
        "    sampler=RandomSampler(train_dataset),\n",
        "    batch_size=batch_size\n",
        ")\n",
        "\n",
        "#For validation and testing\n",
        "val_loader = DataLoader(\n",
        "    val_dataset,\n",
        "    sampler=RandomSampler(val_dataset),\n",
        "    batch_size=batch_size\n",
        ")\n",
        "\n",
        "test_loader = DataLoader(\n",
        "    test_dataset,\n",
        "    sampler=RandomSampler(test_dataset),\n",
        "    batch_size=batch_size\n",
        ")\n"
      ]
    },
    {
      "cell_type": "markdown",
      "metadata": {
        "id": "Eh4UwW6cRhwd"
      },
      "source": [
        "---\n",
        "# **Converting the Tokenized Data to Complete Tensors**\n"
      ]
    },
    {
      "cell_type": "markdown",
      "metadata": {
        "id": "NLDr7tB58DH9"
      },
      "source": [
        "# Tokenization for Logisitic Regression\n",
        "\n",
        "This implementation of tokenization will be used specifically for the logistic regression model. The implementation steps include:\n",
        "  1. Vectorizing the sentences\n",
        "  2. Counting the occurances of words\n",
        "  3. Vectorizing the numbers for the corresponding words"
      ]
    },
    {
      "cell_type": "code",
      "execution_count": null,
      "metadata": {
        "id": "Y60AkIXn9pKK"
      },
      "outputs": [],
      "source": [
        "from sklearn.feature_extraction.text import CountVectorizer\n",
        "\n",
        "vectorizer = CountVectorizer(ngram_range=(1,3))\n",
        "\n",
        "train_bow = vectorizer.fit_transform(train_bodies)\n",
        "val_bow = vectorizer.transform(val_bodies)\n",
        "test_bow = vectorizer.transform(test_bodies)"
      ]
    },
    {
      "cell_type": "markdown",
      "metadata": {
        "id": "zONEJb94brp1"
      },
      "source": [
        "# **Implementing the Logistic Regression Model**\n",
        "add description here after"
      ]
    },
    {
      "cell_type": "code",
      "execution_count": null,
      "metadata": {
        "colab": {
          "base_uri": "https://localhost:8080/"
        },
        "id": "Fq1Drk3ub_RQ",
        "outputId": "cf16d62c-ab55-46f9-ff5b-ea99d914b4ed"
      },
      "outputs": [
        {
          "output_type": "stream",
          "name": "stdout",
          "text": [
            "Validation Accuracy (Logistic Regression Baseline): 98.44%\n"
          ]
        }
      ],
      "source": [
        "from sklearn.linear_model import LogisticRegression\n",
        "from sklearn.metrics import accuracy_score\n",
        "\n",
        "# Initialize Logistic Regression with suitable parameters\n",
        "log_reg = LogisticRegression(max_iter=1000, random_state=42)\n",
        "\n",
        "# Fit the model on Bag-of-Words training data\n",
        "log_reg.fit(train_bow, train_labels.numpy())\n",
        "\n",
        "# Predict on validation set\n",
        "val_preds = log_reg.predict(val_bow)\n",
        "\n",
        "# Calculate validation accuracy\n",
        "val_accuracy = accuracy_score(val_labels.numpy(), val_preds)\n",
        "print(f\"Validation Accuracy (Logistic Regression Baseline): {val_accuracy * 100:.2f}%\")"
      ]
    },
    {
      "cell_type": "markdown",
      "metadata": {
        "id": "jIMTyCswhx62"
      },
      "source": [
        "---\n",
        "#**Apply Pretrained BERT Model**\n",
        "\n",
        "- Initialize Pretrained BERT Model Transformer\n",
        "- Use AdamW Optimizer for optimization and loss\n",
        "- Define Dataloaders from tensors\n",
        "- Train the Model\n",
        "- Use Early Stopping in pretrained model"
      ]
    },
    {
      "cell_type": "code",
      "execution_count": null,
      "metadata": {
        "id": "e2f21a36"
      },
      "outputs": [],
      "source": [
        "\n",
        "import torch.nn as nn\n",
        "from transformers import BertModel\n",
        "\n",
        "# Custom BERT Classifier with Dropout\n",
        "class BertClassifier(nn.Module):\n",
        "    def __init__(self, dropout_rate=0.3, num_labels=2):\n",
        "        super(BertClassifier, self).__init__()\n",
        "        self.bert = BertModel.from_pretrained('bert-base-uncased')\n",
        "        self.dropout = nn.Dropout(dropout_rate)\n",
        "        self.classifier = nn.Linear(self.bert.config.hidden_size, num_labels)\n",
        "\n",
        "    def forward(self, input_ids, attention_mask=None, labels=None):\n",
        "        outputs = self.bert(input_ids=input_ids, attention_mask=attention_mask)\n",
        "        pooled_output = outputs.pooler_output\n",
        "        dropped = self.dropout(pooled_output)\n",
        "        logits = self.classifier(dropped)\n",
        "\n",
        "        loss = None\n",
        "        if labels is not None:\n",
        "            loss_fn = nn.CrossEntropyLoss()\n",
        "            loss = loss_fn(logits, labels)\n",
        "\n",
        "        return {'loss': loss, 'logits': logits}\n"
      ]
    },
    {
      "cell_type": "code",
      "execution_count": null,
      "metadata": {
        "colab": {
          "base_uri": "https://localhost:8080/"
        },
        "id": "8f92555f",
        "outputId": "ae8b6d95-4728-4f28-a250-b277fab153fd"
      },
      "outputs": [
        {
          "output_type": "stream",
          "name": "stdout",
          "text": [
            "Epoch 1: Train loss = 0.1068, Val loss = 0.0316, Train error = 0.0447, Val error = 0.0122\n",
            "Epoch 2: Train loss = 0.0205, Val loss = 0.0241, Train error = 0.0077, Val error = 0.0090\n",
            "Epoch 3: Train loss = 0.0091, Val loss = 0.0269, Train error = 0.0043, Val error = 0.0092\n"
          ]
        }
      ],
      "source": [
        "\n",
        "# Instantiate model\n",
        "model = BertClassifier(dropout_rate=0.3, num_labels=2).to(bert_device)\n",
        "\n",
        "from transformers import get_linear_schedule_with_warmup\n",
        "from torch.optim import AdamW\n",
        "\n",
        "epochs = 3\n",
        "optimizer = AdamW(model.parameters(), lr=1e-5, weight_decay=2e-5)\n",
        "total_steps = len(train_loader) * epochs\n",
        "scheduler = get_linear_schedule_with_warmup(\n",
        "    optimizer,\n",
        "    num_warmup_steps=int(0.1 * total_steps),\n",
        "    num_training_steps=total_steps\n",
        ")\n",
        "\n",
        "best_val_error = float('inf')\n",
        "patience = 2\n",
        "patience_counter = 0\n",
        "\n",
        "train_loss_list = []\n",
        "val_loss_list = []\n",
        "train_err_list = []\n",
        "val_err_list = []\n",
        "\n",
        "for epoch in range(epochs):\n",
        "    model.train()\n",
        "    total_train_loss = 0\n",
        "    total_train_err = 0\n",
        "\n",
        "    for step, batch in enumerate(train_loader):\n",
        "        b_input_ids = batch['input_ids'].to(bert_device)\n",
        "        b_attention_mask = batch['attention_mask'].to(bert_device)\n",
        "        b_labels = batch['labels'].to(bert_device)\n",
        "\n",
        "        optimizer.zero_grad()\n",
        "        outputs = model(input_ids=b_input_ids, attention_mask=b_attention_mask, labels=b_labels)\n",
        "        loss = outputs['loss']\n",
        "        logits = outputs['logits']\n",
        "\n",
        "        loss.backward()\n",
        "        optimizer.step()\n",
        "        scheduler.step()\n",
        "\n",
        "        total_train_loss += loss.item()\n",
        "        preds = logits.argmax(dim=1)\n",
        "        total_train_err += (preds != b_labels).sum().item()\n",
        "\n",
        "    avg_train_loss = total_train_loss / len(train_loader)\n",
        "    train_error = total_train_err / len(train_loader.dataset)\n",
        "\n",
        "    train_loss_list.append(avg_train_loss)\n",
        "    train_err_list.append(train_error)\n",
        "\n",
        "    model.eval()\n",
        "    total_val_loss = 0\n",
        "    total_val_err = 0\n",
        "    with torch.no_grad():\n",
        "        for batch in val_loader:\n",
        "            b_input_ids = batch['input_ids'].to(bert_device)\n",
        "            b_attention_mask = batch['attention_mask'].to(bert_device)\n",
        "            b_labels = batch['labels'].to(bert_device)\n",
        "\n",
        "            outputs = model(input_ids=b_input_ids, attention_mask=b_attention_mask, labels=b_labels)\n",
        "            loss = outputs['loss']\n",
        "            logits = outputs['logits']\n",
        "\n",
        "            total_val_loss += loss.item()\n",
        "            preds = logits.argmax(dim=1)\n",
        "            total_val_err += (preds != b_labels).sum().item()\n",
        "\n",
        "    avg_val_loss = total_val_loss / len(val_loader)\n",
        "    val_error = total_val_err / len(val_loader.dataset)\n",
        "\n",
        "    val_loss_list.append(avg_val_loss)\n",
        "    val_err_list.append(val_error)\n",
        "\n",
        "    print(f\"Epoch {epoch+1}: Train loss = {avg_train_loss:.4f}, Val loss = {avg_val_loss:.4f}, Train error = {train_error:.4f}, Val error = {val_error:.4f}\")\n",
        "\n",
        "    if val_error < best_val_error:\n",
        "        best_val_error = val_error\n",
        "        patience_counter = 0\n",
        "        torch.save(model.state_dict(), 'best_model.pt')\n",
        "    else:\n",
        "        patience_counter += 1\n",
        "        if patience_counter >= patience:\n",
        "            print(\"Early stopping triggered!\")\n",
        "            break\n"
      ]
    },
    {
      "cell_type": "code",
      "source": [
        "import matplotlib.pyplot as plt\n",
        "\n",
        "epochs_range = range(1, epochs + 1)\n",
        "\n",
        "plt.figure(figsize=(12,5))\n",
        "\n",
        "# Plot loss\n",
        "plt.subplot(1, 2, 1)\n",
        "plt.plot(epochs_range, train_loss_list, label='Train Loss')\n",
        "plt.plot(epochs_range, val_loss_list, label='Val Loss')\n",
        "plt.xlabel('Epoch')\n",
        "plt.ylabel('Loss')\n",
        "plt.title('Loss over epochs')\n",
        "plt.legend()\n",
        "\n",
        "# Plot error\n",
        "plt.subplot(1, 2, 2)\n",
        "plt.plot(epochs_range, train_err_list, label='Train Error')\n",
        "plt.plot(epochs_range, val_err_list, label='Val Error')\n",
        "plt.xlabel('Epoch')\n",
        "plt.ylabel('Error rate')\n",
        "plt.title('Error over epochs')\n",
        "plt.legend()\n",
        "\n",
        "plt.show()"
      ],
      "metadata": {
        "colab": {
          "base_uri": "https://localhost:8080/",
          "height": 435
        },
        "id": "PZFjQiuZ0Ar7",
        "outputId": "08a2084f-1d59-41ad-94ed-5daf049a6fc5"
      },
      "execution_count": null,
      "outputs": [
        {
          "output_type": "display_data",
          "data": {
            "text/plain": [
              "<Figure size 1200x500 with 2 Axes>"
            ],
            "image/png": "[encoded data removed]"
          },
          "metadata": {}
        }
      ]
    },
    {
      "cell_type": "markdown",
      "metadata": {
        "id": "6y67GCtsBusT"
      },
      "source": [
        "# Cleaning up RAM usage **(Place this block at the bottom of the code for now please)**\n",
        "We are going to clean up some data to prevent high usage of memory. Please note, you can only run this cell once if you don't reinstantiate these variables"
      ]
    },
    {
      "cell_type": "code",
      "execution_count": null,
      "metadata": {
        "id": "XrtdhicOB4oJ"
      },
      "outputs": [],
      "source": [
        "import gc\n",
        "\n",
        "del phishing_df\n",
        "\n",
        "del train_bodies, val_bodies, test_bodies\n",
        "\n",
        "del tokenizedTraining, tokenizedValidation, tokenizedTest\n",
        "\n",
        "gc.collect()"
      ]
    }
  ],
  "metadata": {
    "accelerator": "GPU",
    "colab": {
      "gpuType": "T4",
      "provenance": []
    },
    "kernelspec": {
      "display_name": "Python 3",
      "name": "python3"
    },
    "language_info": {
      "name": "python"
    }
  },
  "nbformat": 4,
  "nbformat_minor": 0
}