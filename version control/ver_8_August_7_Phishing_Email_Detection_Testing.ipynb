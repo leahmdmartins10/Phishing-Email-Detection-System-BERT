{
  "cells": [
    {
      "cell_type": "code",
      "execution_count": null,
      "metadata": {
        "colab": {
          "base_uri": "https://localhost:8080/"
        },
        "id": "7784ba17",
        "outputId": "f073fcb0-9460-4fab-f09e-1e4f18d9550f"
      },
      "outputs": [
        {
          "output_type": "stream",
          "name": "stdout",
          "text": [
            "Default device for general processing: cuda\n",
            "Device for BERT training: cuda\n"
          ]
        }
      ],
      "source": [
        "import torch\n",
        "\n",
        "#Set CPU as default device\n",
        "default_device = torch.device(\"cuda\" if torch.cuda.is_available() else \"cpu\")\n",
        "\n",
        "#Set GPU for BERT training if available\n",
        "bert_device = torch.device(\"cuda\" if torch.cuda.is_available() else \"cpu\")\n",
        "\n",
        "print(f\"Default device for general processing: {default_device}\")\n",
        "print(f\"Device for BERT training: {bert_device}\")\n"
      ]
    },
    {
      "cell_type": "markdown",
      "metadata": {
        "id": "ATUNAnXVRrST"
      },
      "source": [
        "# 📧 Phishing Email Detection System Using BERT\n",
        "\n",
        "In this project, we aim to build a phishing email detection model using deep learning techniques, with a focus on the BERT (Bidirectional Encoder Representations from Transformers) architecture.\n",
        "\n",
        "Phishing emails are deceptive messages designed to trick users into revealing sensitive information. As attackers increasingly use AI to craft convincing emails, traditional rule-based filters fall short. This motivates the need for a more intelligent, language-aware detection system.\n",
        "\n",
        "We begin by loading and preprocessing real-world phishing and legitimate email datasets. After tokenizing the data, we will train and evaluate a fine-tuned BERT model, and compare its performance to a logistic regression baseline. Our objective is to build a model that accurately classifies emails as \"phishing\" or \"safe\" using language patterns and contextual understanding.\n",
        "\n",
        "\n",
        "\n"
      ]
    },
    {
      "cell_type": "code",
      "execution_count": null,
      "metadata": {
        "id": "7OEO-zjwEBxN"
      },
      "outputs": [],
      "source": [
        "from google.colab import userdata\n",
        "#KaggkeAPIKey = userdata.get('KaggleAPIKey')"
      ]
    },
    {
      "cell_type": "markdown",
      "metadata": {
        "id": "95AQtTcrR9Jj"
      },
      "source": [
        "---\n",
        "\n",
        "# Mounting the google drive\n",
        "We have to mount the google drive seeing as the files for the datasets are stored there"
      ]
    },
    {
      "cell_type": "code",
      "execution_count": null,
      "metadata": {
        "colab": {
          "base_uri": "https://localhost:8080/"
        },
        "collapsed": true,
        "id": "ELdb6e_bITxX",
        "outputId": "9c318807-841f-433f-de93-fca82a19f718"
      },
      "outputs": [
        {
          "output_type": "stream",
          "name": "stdout",
          "text": [
            "Mounted at /content/drive\n"
          ]
        }
      ],
      "source": [
        "from google.colab import drive\n",
        "drive.mount('/content/drive')\n"
      ]
    },
    {
      "cell_type": "markdown",
      "metadata": {
        "id": "-FEMWGefsz9T"
      },
      "source": [
        "---\n",
        "# Cleaning Data across Datasets\n",
        "Making all data sets consistent in labeling, data type and format:\n",
        "\n",
        "1. \"body\": Holds the body of all emails.\n",
        "2. \"urls\": Holds the boolean value for if a url is present or not (1: url, 0: no url)\n",
        "3. \"label\": Holds the boolen value for if an email is Phishing or Safe (1: phishing, 0 not phishing)\n",
        "\n",
        "\n",
        "- REMOVING UNPARSABLE/ ILLEGAL DATA\n",
        "- You can view all data at \"APS360_Final_Cleaned_Data\" in shared folder"
      ]
    },
    {
      "cell_type": "code",
      "execution_count": null,
      "metadata": {
        "colab": {
          "base_uri": "https://localhost:8080/"
        },
        "collapsed": true,
        "id": "djpJFjk_3HY0",
        "outputId": "c45473b3-6c8b-447f-dab0-fee53fd2f97f"
      },
      "outputs": [
        {
          "output_type": "stream",
          "name": "stdout",
          "text": [
            "Collecting xlsxwriter\n",
            "  Downloading xlsxwriter-3.2.5-py3-none-any.whl.metadata (2.7 kB)\n",
            "Downloading xlsxwriter-3.2.5-py3-none-any.whl (172 kB)\n",
            "\u001b[?25l   \u001b[90m━━━━━━━━━━━━━━━━━━━━━━━━━━━━━━━━━━━━━━━━\u001b[0m \u001b[32m0.0/172.3 kB\u001b[0m \u001b[31m?\u001b[0m eta \u001b[36m-:--:--\u001b[0m\r\u001b[2K   \u001b[90m━━━━━━━━━━━━━━━━━━━━━━━━━━━━━━━━━━━━━━━━\u001b[0m \u001b[32m172.3/172.3 kB\u001b[0m \u001b[31m12.1 MB/s\u001b[0m eta \u001b[36m0:00:00\u001b[0m\n",
            "\u001b[?25hInstalling collected packages: xlsxwriter\n",
            "Successfully installed xlsxwriter-3.2.5\n",
            "Requirement already satisfied: pandas in /usr/local/lib/python3.11/dist-packages (2.2.2)\n",
            "Requirement already satisfied: openpyxl in /usr/local/lib/python3.11/dist-packages (3.1.5)\n",
            "Requirement already satisfied: numpy>=1.23.2 in /usr/local/lib/python3.11/dist-packages (from pandas) (2.0.2)\n",
            "Requirement already satisfied: python-dateutil>=2.8.2 in /usr/local/lib/python3.11/dist-packages (from pandas) (2.9.0.post0)\n",
            "Requirement already satisfied: pytz>=2020.1 in /usr/local/lib/python3.11/dist-packages (from pandas) (2025.2)\n",
            "Requirement already satisfied: tzdata>=2022.7 in /usr/local/lib/python3.11/dist-packages (from pandas) (2025.2)\n",
            "Requirement already satisfied: et-xmlfile in /usr/local/lib/python3.11/dist-packages (from openpyxl) (2.0.0)\n",
            "Requirement already satisfied: six>=1.5 in /usr/local/lib/python3.11/dist-packages (from python-dateutil>=2.8.2->pandas) (1.17.0)\n"
          ]
        }
      ],
      "source": [
        "!pip install xlsxwriter\n",
        "!pip install pandas openpyxl"
      ]
    },
    {
      "cell_type": "code",
      "execution_count": null,
      "metadata": {
        "colab": {
          "base_uri": "https://localhost:8080/"
        },
        "id": "PKAYArW12hB3",
        "outputId": "3b776bb0-5b7b-474c-dab9-c2fd7e2526a0"
      },
      "outputs": [
        {
          "output_type": "stream",
          "name": "stdout",
          "text": [
            "Done! Cleaned Excel file saved at:\n",
            "/content/drive/MyDrive/APS360 Notes/Datasets/APS360_Final_Cleaned_Data.xlsx\n"
          ]
        }
      ],
      "source": [
        "import os\n",
        "import pandas as pd\n",
        "import re\n",
        "\n",
        "#Folder with your CSVs\n",
        "source_folder = '/content/drive/MyDrive/APS360 Notes/Datasets'\n",
        "output_excel_path = os.path.join(source_folder, 'APS360_Final_Cleaned_Data.xlsx')\n",
        "\n",
        "#Create the directory if it doesn't exist\n",
        "os.makedirs(source_folder, exist_ok=True)\n",
        "\n",
        "#Patterns to detect illegal Excel characters and ANSI sequences\n",
        "ansi_pattern = re.compile(r'[\\x1B\\x1b]\\[[0-9;]*[A-Za-z]|[0-9]+;[0-9]+[Hf]')\n",
        "illegal_excel_chars = re.compile(r\"[\\x00-\\x08\\x0B-\\x1F]\")\n",
        "\n",
        "#Function to check if a row contains illegal characters\n",
        "def row_has_illegal_data(row):\n",
        "    return any(\n",
        "        ansi_pattern.search(str(cell)) or illegal_excel_chars.search(str(cell))\n",
        "        for cell in row\n",
        "    )\n",
        "\n",
        "#Create ExcelWriter object\n",
        "with pd.ExcelWriter(output_excel_path, engine='openpyxl') as writer:\n",
        "    for filename in os.listdir(source_folder):\n",
        "        if filename.endswith('.csv'):\n",
        "            filepath = os.path.join(source_folder, filename)\n",
        "\n",
        "            try:\n",
        "                df = pd.read_csv(filepath, on_bad_lines='skip', encoding='utf-8', engine='python')\n",
        "            except Exception as e:\n",
        "                print(f\"Skipping {filename} due to read error: {e}\")\n",
        "                continue\n",
        "\n",
        "            #Drop rows with illegal characters\n",
        "            df = df[~df.apply(row_has_illegal_data, axis=1)]\n",
        "\n",
        "            #Clean and rename columns\n",
        "            df.columns = [col.strip() for col in df.columns]\n",
        "            col_map = {}\n",
        "            for col in df.columns:\n",
        "                if col.lower() in ['email text', 'text']:\n",
        "                    col_map[col] = 'body'\n",
        "                elif col.lower() == 'email type':\n",
        "                    col_map[col] = 'label'\n",
        "            df = df.rename(columns=col_map)\n",
        "\n",
        "            #Add 'urls' column if missing\n",
        "            if 'urls' not in df.columns and 'body' in df.columns:\n",
        "                df['urls'] = df['body'].astype(str).apply(lambda x: 1 if 'http' in x else 0)\n",
        "\n",
        "            #Keep only ['body', 'urls', 'label']\n",
        "            keep_cols = [col for col in ['body', 'urls', 'label'] if col in df.columns]\n",
        "            df = df[keep_cols]\n",
        "\n",
        "            #Write sheet to Excel\n",
        "            sheet_name = os.path.splitext(filename)[0][:31]\n",
        "            try:\n",
        "                df.to_excel(writer, sheet_name=sheet_name, index=False)\n",
        "            except Exception as e:\n",
        "                print(f\"Failed to write sheet for {filename}: {e}\")\n",
        "\n",
        "print(f\"Done! Cleaned Excel file saved at:\\n{output_excel_path}\")"
      ]
    },
    {
      "cell_type": "markdown",
      "metadata": {
        "id": "IpSuinQe1vKb"
      },
      "source": [
        "---\n",
        "#Combine Data into One Large Dataset\n",
        "\n",
        "- Takes all csv files and merges into one giant data set.\n",
        "- Removes empty and null rows.\n",
        "- Randomly shuffles and rearranges data.\n",
        "- Makes sure that \"label\" and \"urls\" data is numerical later processing"
      ]
    },
    {
      "cell_type": "code",
      "execution_count": null,
      "metadata": {
        "id": "MTgcBQzS-Cpb"
      },
      "outputs": [],
      "source": [
        "#This is a function Force string/int labels to integer 0 or 1\n",
        "#Will be used later in combination (for cleaning purposes)\n",
        "\n",
        "def clean_numerics(x):\n",
        "    x_str = str(x).strip().lower()\n",
        "    if x_str in ['1', 'phishing email']:\n",
        "        return 1\n",
        "    elif x_str in ['0', 'safe email']:\n",
        "        return 0\n",
        "    else:\n",
        "        return 0"
      ]
    },
    {
      "cell_type": "code",
      "execution_count": null,
      "metadata": {
        "id": "y6EwNNSm11UB"
      },
      "outputs": [],
      "source": [
        "#Load all sheets\n",
        "all_sheets = pd.read_excel(output_excel_path, sheet_name=None)\n",
        "\n",
        "#Concatenate all sheets into one DataFrame\n",
        "phishing_df = pd.concat(all_sheets.values(), ignore_index=True)\n",
        "\n",
        "#Drop rows with missing values (if any)\n",
        "phishing_df = phishing_df.dropna()\n",
        "\n",
        "#Shuffle dataset\n",
        "phishing_df = phishing_df.sample(frac=1, random_state=42).reset_index(drop=True)\n",
        "\n",
        "#Checks that this data is numerical\n",
        "phishing_df['label'] = phishing_df['label'].apply(clean_numerics)\n",
        "phishing_df['urls'] = phishing_df['urls'].apply(clean_numerics)\n"
      ]
    },
    {
      "cell_type": "markdown",
      "metadata": {
        "id": "RxGB5j9xIax8"
      },
      "source": [
        "---\n",
        "#Clean and Set New Testing Data\n",
        "\n",
        "- Organizes Manually Collected never before seen data for testing"
      ]
    },
    {
      "cell_type": "code",
      "execution_count": null,
      "metadata": {
        "colab": {
          "base_uri": "https://localhost:8080/"
        },
        "id": "o80ylyr9Iacv",
        "outputId": "190409ef-8a1e-4c1f-dd7d-ae1a985657b3"
      },
      "outputs": [
        {
          "output_type": "stream",
          "name": "stdout",
          "text": [
            "Done! Cleaned Excel file saved at:\n",
            " /content/drive/MyDrive/APS360 Notes/Datasets/New_Data/Final_Testing_Data.xlsx\n"
          ]
        }
      ],
      "source": [
        "import pandas as pd\n",
        "import warnings\n",
        "warnings.filterwarnings(\"ignore\", category=UserWarning, module='xlsxwriter')\n",
        "\n",
        "# Load the two CSV files\n",
        "df1 = pd.read_csv('/content/drive/MyDrive/APS360 Notes/Datasets/New_Data/Testing_Phishing_Dataset_Real.csv',encoding='ISO-8859-1')\n",
        "df2 = pd.read_csv('/content/drive/MyDrive/APS360 Notes/Datasets/New_Data/Testing_Phishing_Dataset_AI.csv', encoding='ISO-8859-1')\n",
        "\n",
        "# Clean column names (remove leading/trailing whitespace)\n",
        "df1.columns = df1.columns.str.strip()\n",
        "df2.columns = df2.columns.str.strip()\n",
        "df1.rename(columns={'url': 'urls'}, inplace=True)\n",
        "df2.rename(columns={'url': 'urls'}, inplace=True)\n",
        "\n",
        "# Concatenate them\n",
        "combined = pd.concat([df1, df2], ignore_index=True)\n",
        "# Drop rows where label is NaN\n",
        "combined = combined.dropna(subset=['label'])\n",
        "combined = combined.dropna(subset=['urls'])\n",
        "combined = combined.dropna(subset=['body'])\n",
        "# Convert label column to int\n",
        "combined['label'] = combined['label'].astype(int)\n",
        "\n",
        "\n",
        "# Save to Excel\n",
        "combined.to_excel('/content/drive/MyDrive/APS360 Notes/Datasets/New_Data/Final_Testing_Data.xlsx', index=False)\n",
        "output_excel_path = '/content/drive/MyDrive/APS360 Notes/Datasets/New_Data/Final_Testing_Data.xlsx'\n",
        "\n",
        "# Do nothing, or print something meaningful\n",
        "print(f\"Done! Cleaned Excel file saved at:\\n /content/drive/MyDrive/APS360 Notes/Datasets/New_Data/Final_Testing_Data.xlsx\")\n"
      ]
    },
    {
      "cell_type": "code",
      "execution_count": null,
      "metadata": {
        "colab": {
          "base_uri": "https://localhost:8080/"
        },
        "id": "4c7V4nEuI-sT",
        "outputId": "512051d4-cc89-470d-de9b-4f6036f22011"
      },
      "outputs": [
        {
          "output_type": "stream",
          "name": "stdout",
          "text": [
            "                                                body  urls  label\n",
            "0  Thank you for your recent purchase. If there a...     0      1\n",
            "1  Please join us for our branch meeting being he...     0      0\n",
            "2  Thank you for your recent purchase. If there a...     0      1\n",
            "3  Hello, we've flagged a few inconsistencies in ...     0      1\n",
            "4  Thank you for electronically signing the Adult...     1      0\n"
          ]
        }
      ],
      "source": [
        "#Load all sheets\n",
        "test_sheets = pd.read_excel(output_excel_path, sheet_name=None)\n",
        "\n",
        "#Concatenate all sheets into one DataFrame\n",
        "test_df = pd.concat(test_sheets.values(), ignore_index=True)\n",
        "\n",
        "#Shuffle dataset\n",
        "test_df = test_df.sample(frac=1, random_state=42).reset_index(drop=True)\n",
        "\n",
        "#Drop rows with NaN in the body column from test set\n",
        "test_df = test_df.dropna(subset=['body'])\n",
        "test_df = test_df.dropna(subset=['urls'])\n",
        "test_df = test_df.dropna(subset=['label'])\n",
        "\n",
        "test_df= pd.concat([test_df] * 2, ignore_index=True)\n",
        "\n",
        "#Show the first 5 rows\n",
        "print(test_df.head())\n"
      ]
    },
    {
      "cell_type": "markdown",
      "metadata": {
        "id": "MIjBoOuuDN5t"
      },
      "source": [
        "---\n",
        "#Split Tensor Data into Training Validation and Testing Datasets\n",
        "\n",
        "- Randomly split the encoded email data into 70% training, 15% validation, and 15% test sets.\n",
        "- Each split contains input tensors from the tokenization (input_ids, attention_mask) along with corresponding labels and URL indicators (from phishing_df ).\n",
        "- This prepares the data for use in training and evaluating an AI classification model.\n",
        "\n",
        "\n"
      ]
    },
    {
      "cell_type": "code",
      "execution_count": null,
      "metadata": {
        "colab": {
          "base_uri": "https://localhost:8080/"
        },
        "id": "VuyOkEILXdkj",
        "outputId": "2b28018b-b288-4cb8-b31b-6b5c13c6fdec"
      },
      "outputs": [
        {
          "output_type": "stream",
          "name": "stdout",
          "text": [
            "Train size: 47929 samples (70.00%)\n",
            "Validation size: 10271 samples (15.00%)\n",
            "Test size: 10272 samples (15.00%)\n",
            "\n",
            "Test set breakdown:\n",
            "- phishing_df: 8926 samples (86.90%)\n",
            "- test_df: 1346 samples (13.10%)\n"
          ]
        }
      ],
      "source": [
        "from sklearn.model_selection import train_test_split\n",
        "import torch\n",
        "\n",
        "#Sizes\n",
        "phishing_len = len(phishing_df)\n",
        "test_len = len(test_df)          #1348\n",
        "total_len = phishing_len + test_len  #68474\n",
        "\n",
        "#Desired split counts\n",
        "train_size = int(0.7 * total_len)\n",
        "val_size = int(0.15 * total_len)\n",
        "test_size = total_len - train_size - val_size\n",
        "\n",
        "#Make sure phishing_df has enough samples for train + val\n",
        "if phishing_len < train_size + val_size:\n",
        "    raise ValueError(\"phishing_df doesn't have enough samples for train + val splits.\")\n",
        "\n",
        "#Calculate leftover phishing samples for test\n",
        "phishing_test_size = phishing_len - train_size - val_size  #leftover phishing samples for test set\n",
        "\n",
        "#Check test size feasibility\n",
        "if phishing_test_size + test_len != test_size:\n",
        "    raise ValueError(f\"Test set size mismatch! Expected {test_size}, but got phishing leftover + test_df = {phishing_test_size + test_len}\")\n",
        "\n",
        "#Split phishing_df indices into train, val, and test leftover\n",
        "all_indices = list(range(phishing_len))\n",
        "train_val_idx, phishing_test_idx = train_test_split(\n",
        "    all_indices, test_size=phishing_test_size, random_state=42)\n",
        "\n",
        "#Split train_val_idx into train and val according to proportions\n",
        "train_proportion = train_size / (train_size + val_size)\n",
        "train_idx, val_idx = train_test_split(\n",
        "    train_val_idx, test_size=1-train_proportion, random_state=42)\n",
        "\n",
        "#Now create splits:\n",
        "\n",
        "#Training set (only phishing_df)\n",
        "train_bodies = phishing_df.loc[train_idx, 'body'].tolist()\n",
        "train_urls = torch.tensor(phishing_df.loc[train_idx, 'urls'].tolist())\n",
        "train_labels = torch.tensor(phishing_df.loc[train_idx, 'label'].tolist())\n",
        "\n",
        "#Validation set (only phishing_df)\n",
        "val_bodies = phishing_df.loc[val_idx, 'body'].tolist()\n",
        "val_urls = torch.tensor(phishing_df.loc[val_idx, 'urls'].tolist())\n",
        "val_labels = torch.tensor(phishing_df.loc[val_idx, 'label'].tolist())\n",
        "\n",
        "#Testing set: leftover phishing_df + all test_df\n",
        "phishing_test_bodies = phishing_df.loc[phishing_test_idx, 'body'].tolist()\n",
        "phishing_test_urls = phishing_df.loc[phishing_test_idx, 'urls'].tolist()\n",
        "phishing_test_labels = phishing_df.loc[phishing_test_idx, 'label'].tolist()\n",
        "\n",
        "test_bodies = phishing_test_bodies + test_df['body'].tolist()\n",
        "test_urls = torch.tensor(phishing_test_urls + test_df['urls'].tolist())\n",
        "test_labels = torch.tensor(phishing_test_labels + test_df['label'].tolist())\n",
        "\n",
        "#Print final stats:\n",
        "print(f\"Train size: {len(train_labels)} samples ({100*len(train_labels)/total_len:.2f}%)\")\n",
        "print(f\"Validation size: {len(val_labels)} samples ({100*len(val_labels)/total_len:.2f}%)\")\n",
        "print(f\"Test size: {len(test_labels)} samples ({100*len(test_labels)/total_len:.2f}%)\")\n",
        "\n",
        "\n",
        "#Total size of test set\n",
        "test_total = len(test_labels)\n",
        "phishing_test_count = len(phishing_test_labels)\n",
        "\n",
        "#Print breakdown\n",
        "print(\"\\nTest set breakdown:\")\n",
        "print(f\"- phishing_df: {phishing_test_count} samples ({100 * phishing_test_count / test_total:.2f}%)\")\n",
        "print(f\"- test_df: {test_len} samples ({100 * test_len / test_total:.2f}%)\")\n",
        "\n",
        "\n",
        "\n"
      ]
    },
    {
      "cell_type": "code",
      "execution_count": null,
      "metadata": {
        "colab": {
          "base_uri": "https://localhost:8080/",
          "height": 362
        },
        "id": "AGC-9fQrNnW2",
        "outputId": "2f230be8-fda2-4a4e-935e-401262380c75"
      },
      "outputs": [
        {
          "output_type": "stream",
          "name": "stdout",
          "text": [
            "Number of emails: 68472\n",
            "\n",
            "\n",
            "Number of phishing emails: 37086\n",
            "Number of safe emails: 31386\n",
            "\n",
            "\n",
            "Number of emails with urls: 38531\n",
            "Number of emails without urls: 29941\n"
          ]
        },
        {
          "output_type": "execute_result",
          "data": {
            "text/plain": [
              "                                                body  urls  label\n",
              "0  \\nThey look and feel exactly like the real thi...     1      1\n",
              "1  \\n\\n\\nCNN Alerts: My Custom Alert\\n\\n\\n\\n\\n\\n\\...     0      1\n",
              "2  Ranked #1 Men's Supplement by GQ in 2007, disc...     1      1\n",
              "3  No girl will now resist a temptation to go wit...     1      1\n",
              "4  Dear Sarah, I hope this email finds you well. ...     1      0"
            ],
            "text/html": [
              "\n",
              "  <div id=\"df-2048f2e9-b735-4230-874c-42d945ceb690\" class=\"colab-df-container\">\n",
              "    <div>\n",
              "<style scoped>\n",
              "    .dataframe tbody tr th:only-of-type {\n",
              "        vertical-align: middle;\n",
              "    }\n",
              "\n",
              "    .dataframe tbody tr th {\n",
              "        vertical-align: top;\n",
              "    }\n",
              "\n",
              "    .dataframe thead th {\n",
              "        text-align: right;\n",
              "    }\n",
              "</style>\n",
              "<table border=\"1\" class=\"dataframe\">\n",
              "  <thead>\n",
              "    <tr style=\"text-align: right;\">\n",
              "      <th></th>\n",
              "      <th>body</th>\n",
              "      <th>urls</th>\n",
              "      <th>label</th>\n",
              "    </tr>\n",
              "  </thead>\n",
              "  <tbody>\n",
              "    <tr>\n",
              "      <th>0</th>\n",
              "      <td>\\nThey look and feel exactly like the real thi...</td>\n",
              "      <td>1</td>\n",
              "      <td>1</td>\n",
              "    </tr>\n",
              "    <tr>\n",
              "      <th>1</th>\n",
              "      <td>\\n\\n\\nCNN Alerts: My Custom Alert\\n\\n\\n\\n\\n\\n\\...</td>\n",
              "      <td>0</td>\n",
              "      <td>1</td>\n",
              "    </tr>\n",
              "    <tr>\n",
              "      <th>2</th>\n",
              "      <td>Ranked #1 Men's Supplement by GQ in 2007, disc...</td>\n",
              "      <td>1</td>\n",
              "      <td>1</td>\n",
              "    </tr>\n",
              "    <tr>\n",
              "      <th>3</th>\n",
              "      <td>No girl will now resist a temptation to go wit...</td>\n",
              "      <td>1</td>\n",
              "      <td>1</td>\n",
              "    </tr>\n",
              "    <tr>\n",
              "      <th>4</th>\n",
              "      <td>Dear Sarah, I hope this email finds you well. ...</td>\n",
              "      <td>1</td>\n",
              "      <td>0</td>\n",
              "    </tr>\n",
              "  </tbody>\n",
              "</table>\n",
              "</div>\n",
              "    <div class=\"colab-df-buttons\">\n",
              "\n",
              "  <div class=\"colab-df-container\">\n",
              "    <button class=\"colab-df-convert\" onclick=\"convertToInteractive('df-2048f2e9-b735-4230-874c-42d945ceb690')\"\n",
              "            title=\"Convert this dataframe to an interactive table.\"\n",
              "            style=\"display:none;\">\n",
              "\n",
              "  <svg xmlns=\"http://www.w3.org/2000/svg\" height=\"24px\" viewBox=\"0 -960 960 960\">\n",
              "    <path d=\"M120-120v-720h720v720H120Zm60-500h600v-160H180v160Zm220 220h160v-160H400v160Zm0 220h160v-160H400v160ZM180-400h160v-160H180v160Zm440 0h160v-160H620v160ZM180-180h160v-160H180v160Zm440 0h160v-160H620v160Z\"/>\n",
              "  </svg>\n",
              "    </button>\n",
              "\n",
              "  <style>\n",
              "    .colab-df-container {\n",
              "      display:flex;\n",
              "      gap: 12px;\n",
              "    }\n",
              "\n",
              "    .colab-df-convert {\n",
              "      background-color: #E8F0FE;\n",
              "      border: none;\n",
              "      border-radius: 50%;\n",
              "      cursor: pointer;\n",
              "      display: none;\n",
              "      fill: #1967D2;\n",
              "      height: 32px;\n",
              "      padding: 0 0 0 0;\n",
              "      width: 32px;\n",
              "    }\n",
              "\n",
              "    .colab-df-convert:hover {\n",
              "      background-color: #E2EBFA;\n",
              "      box-shadow: 0px 1px 2px rgba(60, 64, 67, 0.3), 0px 1px 3px 1px rgba(60, 64, 67, 0.15);\n",
              "      fill: #174EA6;\n",
              "    }\n",
              "\n",
              "    .colab-df-buttons div {\n",
              "      margin-bottom: 4px;\n",
              "    }\n",
              "\n",
              "    [theme=dark] .colab-df-convert {\n",
              "      background-color: #3B4455;\n",
              "      fill: #D2E3FC;\n",
              "    }\n",
              "\n",
              "    [theme=dark] .colab-df-convert:hover {\n",
              "      background-color: #434B5C;\n",
              "      box-shadow: 0px 1px 3px 1px rgba(0, 0, 0, 0.15);\n",
              "      filter: drop-shadow(0px 1px 2px rgba(0, 0, 0, 0.3));\n",
              "      fill: #FFFFFF;\n",
              "    }\n",
              "  </style>\n",
              "\n",
              "    <script>\n",
              "      const buttonEl =\n",
              "        document.querySelector('#df-2048f2e9-b735-4230-874c-42d945ceb690 button.colab-df-convert');\n",
              "      buttonEl.style.display =\n",
              "        google.colab.kernel.accessAllowed ? 'block' : 'none';\n",
              "\n",
              "      async function convertToInteractive(key) {\n",
              "        const element = document.querySelector('#df-2048f2e9-b735-4230-874c-42d945ceb690');\n",
              "        const dataTable =\n",
              "          await google.colab.kernel.invokeFunction('convertToInteractive',\n",
              "                                                    [key], {});\n",
              "        if (!dataTable) return;\n",
              "\n",
              "        const docLinkHtml = 'Like what you see? Visit the ' +\n",
              "          '<a target=\"_blank\" href=https://colab.research.google.com/notebooks/data_table.ipynb>data table notebook</a>'\n",
              "          + ' to learn more about interactive tables.';\n",
              "        element.innerHTML = '';\n",
              "        dataTable['output_type'] = 'display_data';\n",
              "        await google.colab.output.renderOutput(dataTable, element);\n",
              "        const docLink = document.createElement('div');\n",
              "        docLink.innerHTML = docLinkHtml;\n",
              "        element.appendChild(docLink);\n",
              "      }\n",
              "    </script>\n",
              "  </div>\n",
              "\n",
              "\n",
              "    <div id=\"df-4d5811fb-3b47-4497-9fbc-a6221a36304b\">\n",
              "      <button class=\"colab-df-quickchart\" onclick=\"quickchart('df-4d5811fb-3b47-4497-9fbc-a6221a36304b')\"\n",
              "                title=\"Suggest charts\"\n",
              "                style=\"display:none;\">\n",
              "\n",
              "<svg xmlns=\"http://www.w3.org/2000/svg\" height=\"24px\"viewBox=\"0 0 24 24\"\n",
              "     width=\"24px\">\n",
              "    <g>\n",
              "        <path d=\"M19 3H5c-1.1 0-2 .9-2 2v14c0 1.1.9 2 2 2h14c1.1 0 2-.9 2-2V5c0-1.1-.9-2-2-2zM9 17H7v-7h2v7zm4 0h-2V7h2v10zm4 0h-2v-4h2v4z\"/>\n",
              "    </g>\n",
              "</svg>\n",
              "      </button>\n",
              "\n",
              "<style>\n",
              "  .colab-df-quickchart {\n",
              "      --bg-color: #E8F0FE;\n",
              "      --fill-color: #1967D2;\n",
              "      --hover-bg-color: #E2EBFA;\n",
              "      --hover-fill-color: #174EA6;\n",
              "      --disabled-fill-color: #AAA;\n",
              "      --disabled-bg-color: #DDD;\n",
              "  }\n",
              "\n",
              "  [theme=dark] .colab-df-quickchart {\n",
              "      --bg-color: #3B4455;\n",
              "      --fill-color: #D2E3FC;\n",
              "      --hover-bg-color: #434B5C;\n",
              "      --hover-fill-color: #FFFFFF;\n",
              "      --disabled-bg-color: #3B4455;\n",
              "      --disabled-fill-color: #666;\n",
              "  }\n",
              "\n",
              "  .colab-df-quickchart {\n",
              "    background-color: var(--bg-color);\n",
              "    border: none;\n",
              "    border-radius: 50%;\n",
              "    cursor: pointer;\n",
              "    display: none;\n",
              "    fill: var(--fill-color);\n",
              "    height: 32px;\n",
              "    padding: 0;\n",
              "    width: 32px;\n",
              "  }\n",
              "\n",
              "  .colab-df-quickchart:hover {\n",
              "    background-color: var(--hover-bg-color);\n",
              "    box-shadow: 0 1px 2px rgba(60, 64, 67, 0.3), 0 1px 3px 1px rgba(60, 64, 67, 0.15);\n",
              "    fill: var(--button-hover-fill-color);\n",
              "  }\n",
              "\n",
              "  .colab-df-quickchart-complete:disabled,\n",
              "  .colab-df-quickchart-complete:disabled:hover {\n",
              "    background-color: var(--disabled-bg-color);\n",
              "    fill: var(--disabled-fill-color);\n",
              "    box-shadow: none;\n",
              "  }\n",
              "\n",
              "  .colab-df-spinner {\n",
              "    border: 2px solid var(--fill-color);\n",
              "    border-color: transparent;\n",
              "    border-bottom-color: var(--fill-color);\n",
              "    animation:\n",
              "      spin 1s steps(1) infinite;\n",
              "  }\n",
              "\n",
              "  @keyframes spin {\n",
              "    0% {\n",
              "      border-color: transparent;\n",
              "      border-bottom-color: var(--fill-color);\n",
              "      border-left-color: var(--fill-color);\n",
              "    }\n",
              "    20% {\n",
              "      border-color: transparent;\n",
              "      border-left-color: var(--fill-color);\n",
              "      border-top-color: var(--fill-color);\n",
              "    }\n",
              "    30% {\n",
              "      border-color: transparent;\n",
              "      border-left-color: var(--fill-color);\n",
              "      border-top-color: var(--fill-color);\n",
              "      border-right-color: var(--fill-color);\n",
              "    }\n",
              "    40% {\n",
              "      border-color: transparent;\n",
              "      border-right-color: var(--fill-color);\n",
              "      border-top-color: var(--fill-color);\n",
              "    }\n",
              "    60% {\n",
              "      border-color: transparent;\n",
              "      border-right-color: var(--fill-color);\n",
              "    }\n",
              "    80% {\n",
              "      border-color: transparent;\n",
              "      border-right-color: var(--fill-color);\n",
              "      border-bottom-color: var(--fill-color);\n",
              "    }\n",
              "    90% {\n",
              "      border-color: transparent;\n",
              "      border-bottom-color: var(--fill-color);\n",
              "    }\n",
              "  }\n",
              "</style>\n",
              "\n",
              "      <script>\n",
              "        async function quickchart(key) {\n",
              "          const quickchartButtonEl =\n",
              "            document.querySelector('#' + key + ' button');\n",
              "          quickchartButtonEl.disabled = true;  // To prevent multiple clicks.\n",
              "          quickchartButtonEl.classList.add('colab-df-spinner');\n",
              "          try {\n",
              "            const charts = await google.colab.kernel.invokeFunction(\n",
              "                'suggestCharts', [key], {});\n",
              "          } catch (error) {\n",
              "            console.error('Error during call to suggestCharts:', error);\n",
              "          }\n",
              "          quickchartButtonEl.classList.remove('colab-df-spinner');\n",
              "          quickchartButtonEl.classList.add('colab-df-quickchart-complete');\n",
              "        }\n",
              "        (() => {\n",
              "          let quickchartButtonEl =\n",
              "            document.querySelector('#df-4d5811fb-3b47-4497-9fbc-a6221a36304b button');\n",
              "          quickchartButtonEl.style.display =\n",
              "            google.colab.kernel.accessAllowed ? 'block' : 'none';\n",
              "        })();\n",
              "      </script>\n",
              "    </div>\n",
              "\n",
              "    </div>\n",
              "  </div>\n"
            ],
            "application/vnd.google.colaboratory.intrinsic+json": {
              "type": "dataframe",
              "variable_name": "full_df",
              "summary": "{\n  \"name\": \"full_df\",\n  \"rows\": 68472,\n  \"fields\": [\n    {\n      \"column\": \"body\",\n      \"properties\": {\n        \"dtype\": \"string\",\n        \"num_unique_values\": 63717,\n        \"samples\": [\n          \"\\nIf you are searching for cheap chemists. You wont find better range of goods than our site. We\\nhave everything to help to recover of ilnesses.Even if you need fast shipment you can always \\nrely on us. Obtain the most trustworthy help as fast as a mouse click.\\n\\ncowcaptain.com\\n\\n5 Aug 2008 21:00:09\\n\\nthe first\\nsend\\n\\n\\n\",\n          \"Fortunately, we still have reliable International e-shops such as Canadian Healthcare. Shopping for medications here you not only save money but also feel sure about the quality of the drugs you buy.\\n\\nFor economical people who care about their health.\\nhttp://mineintuition.com\\n\\nInstant shipping worldwide. CONFIDENTIAL purchase.\",\n          \"\\n\\n\\nWebcast Alert\\n\\n\\n\\n\\n\\n\\n\\n\\n\\n\\n\\nFebruary 19, 2008\\n\\nPublished by\\u00a0\\n\\nSearchDomino.com\\n\\n\\n\\n\\n\\n\\n\\n\\n\\n\\n\\n\\n    Webcast Alert\\n\\n\\n\\n\\n\\n\\n\\n\\n\\n\\n\\n\\n\\n\\n\\n\\n\\n\\n\\n\\n\\n\\n\\n\\n\\n\\nON-DEMAND WEBCAST\\u00a0\\n\\n\\n\\n\\n\\n\\n\\n\\n\\nA growing proportion of lawsuits require the production of copies of electronic stored information. For Lotus Notes Domino shops, this means that data like email, calendar entries, Sametime instant messages, NSF databases, CRM systems, and word processing documents are all subject to search and subpoena for litigation purposes. \\n\\nThis expert webcast explains how the e-discovery process works and discusses how to prepare and protect your Lotus Notes Domino organization from potential e-discovery pitfalls.\\n\\n\\n\\n\\n\\n\\n\\n\\n\\nEXPERT WEBCAST\\n\\nE-discovery considerations for Lotus Notes Domino organizations\\n\\n\\n\\n\\n\\nWHEN:\\n AVAILABLE ON DEMAND\\n\\n\\n\\nSPEAKER:\\nDavid Ferris, Senior Analyst, Ferris Research\\n\\n\\nSPONSOR :\\u00a0\\u00a0\\nSherpa Software\\n\\n\\n\\n\\n\\n\\n\\n\\n\\n\\n\\n\\u00a0VIEW WEBCAST!\\u00a0\\n\\n\\n\\n\\n\\n\\n\\n\\n\\n\\n\\nABOUT THE WEBCAST:\\n\\nThis presentation reviews the state of current U.S. laws relating to e-discovery and current thinking on relevant best practices. The focus then turns to e-discovery concerns, outlining how to prepare data and infrastructure for potential e-discovery requests, and ways to minimize the extreme cost and disruption often associated with e-discovery efforts. \\n\\nSpecific topics covered include: \\n\\nThe established discovery process in U.S. jurisdictions \\nRecent updates to American litigation procedures, providing for e-discovery\\nWhat Lotus Notes Domino organizations need to do to prepare for e-discovery \\nWhat a 26(f) Meet-and-Confer session is \\nThe key questions to ask in 26(f) sessions \\n\\n\\n\\nABOUT THE SPEAKER:\\n\\n\\nDavid Ferris,\\u00a0Senior Analyst, Ferris Research\\n\\n\\nDavid Ferris has been a technology analyst since 1991. He got into computer science research at Stanford, while doing a PhD in Philosophy. He wrote the first syndicated column in the computer industry and has since written hundreds of articles and bulletins, and co-authored three books. His focus has been on messaging technologies, and more recently he's added the fields of compliance, content control, e-discovery, and data leak protection. He's\\n frequently quoted in the technology and business press.\\n\\n\\nVIEW WEBCAST\\n\\n\\n\\n\\n\\n\\n\\n\\n\\n\\n\\n\\n\\n\\n\\n\\n\\n\\n\\n\\n\\n\\nSherpa Software\\n        Sherpa Software solutions provide extensive email management, archiving, policy enforcement and content filtering capabilities to companies addressing issues relating to storage management, content discovery and compliance. \\n> Click here for more information.\\n\\n\\n\\n\\n\\n\\n\\n\\n\\n\\n\\n\\n\\n\\n\\n\\n\\n\\n\\nVIEW WEBCASTS\\u00a0\\n\\n\\n\\n\\n\\n\\nGet informed. Check out all our available webcasts to get the information you need to make the right IT Business decisions from leading industry experts and vendors.\\n\\n>\\u00a0View all Webcasts\\n\\n\\n\\n\\n\\n\\n\\n\\n\\n\\n\\n\\n\\n\\n\\n\\n   \\n    \\u00a0\\u00a0A\\u00a0B\\u00a0O\\u00a0U\\u00a0T\\u00a0\\u00a0\\u00a0T\\u00a0H\\u00a0I\\u00a0S\\u00a0\\u00a0\\u00a0A\\u00a0L\\u00a0E\\u00a0R\\u00a0T\\n    \\n\\n\\n\\n\\n\\n\\n\\n\\n\\n\\n\\n\\n\\n\\n\\n\\n\\n\\n\\n\\n\\n\\n\\n      Contact us:\\n      SearchDomino\\n      Member Services\\n      117 Kendrick Street, Suite 800\\n      Needham, MA 02494\\n\\n\\n\\n\\n\\n\\n\\n\\n\\n\\n   \\n    This e-newsletter is published by SearchDomino.com, a targeted Web site from TechTarget, The IT Media ROI Experts and events company.\\n    TechTarget offers magazines, Web sites, e-newsletters, Webcasts and conferences for enterprise IT professionals. \\n    Copyright 2008 TechTarget. All rights reserved.\\n\\nIf you no longer wish to receive Webcast Alert from SearchDomino.com go to unsubscribe: http://searchDomino.techtarget.com/u?em=tjm%40cognosys.net&uid=2079970&cid=625720&track=NL-198\\n\\n   Please note, unsubscribe requests may take up to 24 hours to process; you may receive additional mailings during that time. A confirmation e-mail will be sent when your request has been successfully processed.\\n\\n\\n\\n\\n\\n\\n\\n\\n\\n\\n\\n\\n\\n\\n\\n\\n\\n\\n\\n\\n\\n\\n\\n\\n\\n\\n\\n\\n\\n\\n\"\n        ],\n        \"semantic_type\": \"\",\n        \"description\": \"\"\n      }\n    },\n    {\n      \"column\": \"urls\",\n      \"properties\": {\n        \"dtype\": \"number\",\n        \"std\": 0,\n        \"min\": 0,\n        \"max\": 1,\n        \"num_unique_values\": 2,\n        \"samples\": [\n          0,\n          1\n        ],\n        \"semantic_type\": \"\",\n        \"description\": \"\"\n      }\n    },\n    {\n      \"column\": \"label\",\n      \"properties\": {\n        \"dtype\": \"number\",\n        \"std\": 0,\n        \"min\": 0,\n        \"max\": 1,\n        \"num_unique_values\": 2,\n        \"samples\": [\n          0,\n          1\n        ],\n        \"semantic_type\": \"\",\n        \"description\": \"\"\n      }\n    }\n  ]\n}"
            }
          },
          "metadata": {},
          "execution_count": 11
        }
      ],
      "source": [
        "# Combine both dataframes\n",
        "full_df = pd.concat([phishing_df, test_df], ignore_index=True)\n",
        "\n",
        "# Count total\n",
        "N = len(full_df)\n",
        "\n",
        "# Print statistics\n",
        "print(\"Number of emails:\", N)\n",
        "print(\"\\n\")\n",
        "\n",
        "print(\"Number of phishing emails:\", full_df['label'].value_counts()[1])\n",
        "print(\"Number of safe emails:\", full_df['label'].value_counts()[0])\n",
        "print(\"\\n\")\n",
        "\n",
        "print(\"Number of emails with urls:\", full_df['urls'].value_counts()[1])\n",
        "print(\"Number of emails without urls:\", full_df['urls'].value_counts()[0])\n",
        "\n",
        "# Display first 5 rows\n",
        "full_df.head()\n"
      ]
    },
    {
      "cell_type": "code",
      "execution_count": null,
      "metadata": {
        "colab": {
          "base_uri": "https://localhost:8080/",
          "height": 1000
        },
        "id": "V47NVmYaQFle",
        "outputId": "2ab68394-16ed-4d23-d418-40794fa203dc"
      },
      "outputs": [
        {
          "output_type": "display_data",
          "data": {
            "text/plain": [
              "<Figure size 800x600 with 1 Axes>"
            ],
            "image/png": "[encoded data removed]"
          },
          "metadata": {}
        },
        {
          "output_type": "display_data",
          "data": {
            "text/plain": [
              "<Figure size 800x600 with 1 Axes>"
            ],
            "image/png": "[encoded data removed]"
          },
          "metadata": {}
        }
      ],
      "source": [
        "import matplotlib.pyplot as plt\n",
        "\n",
        "\"\"\"PLOT PIE CHART OF PHISHING VS SAFE EMAILS\"\"\"\n",
        "\n",
        "#Data\n",
        "labels = ['Phishing', 'Safe']\n",
        "values = [full_df['label'].value_counts()[1], full_df['label'].value_counts()[0]]\n",
        "\n",
        "#Plot\n",
        "plt.figure(figsize=(8, 6))\n",
        "plt.pie(values, labels=labels, autopct='%1.1f%%', startangle=140)\n",
        "plt.title('Proportion of Phishing vs Safe Emails')\n",
        "plt.show()\n",
        "\n",
        "\n",
        "\n",
        "\"\"\"PLOT BAR GRAPH OF URLS\"\"\"\n",
        "\n",
        "#Count combinations of label and url presence\n",
        "group_counts = full_df.groupby(['label', 'urls']).size().unstack(fill_value=0)\n",
        "\n",
        "#Data\n",
        "labels = ['Phishing', 'Safe']  # label 1 = Phishing, 0 = Safe\n",
        "with_urls = [group_counts.loc[1, 1], group_counts.loc[0, 1]]\n",
        "without_urls = [group_counts.loc[1, 0], group_counts.loc[0, 0]]\n",
        "\n",
        "x = range(len(labels))  # [0, 1]\n",
        "bar_width = 0.35\n",
        "\n",
        "#Plot bars\n",
        "plt.figure(figsize=(8, 6))\n",
        "bars1 = plt.bar([i - bar_width/2 for i in x], without_urls, width=bar_width, label='URLs Not Present', color='purple')\n",
        "bars2 = plt.bar([i + bar_width/2 for i in x], with_urls, width=bar_width, label='URLs Present', color='pink')\n",
        "\n",
        "#Add value labels on top of bars\n",
        "for bars in [bars1, bars2]:\n",
        "    for bar in bars:\n",
        "        height = bar.get_height()\n",
        "        plt.text(bar.get_x() + bar.get_width()/2, height + 100, f'{height:,}',  # add comma to large numbers\n",
        "                 ha='center', va='bottom', fontsize=10)\n",
        "\n",
        "#Formatting\n",
        "plt.xticks(x, labels)\n",
        "plt.ylabel('Number of Emails')\n",
        "plt.title('URL Presence in Phishing vs Safe Emails')\n",
        "plt.legend()\n",
        "plt.grid(axis='y')\n",
        "plt.tight_layout()\n",
        "plt.show()\n",
        "\n"
      ]
    },
    {
      "cell_type": "markdown",
      "metadata": {
        "id": "fDcf_h7TNIMz"
      },
      "source": [
        "---\n",
        "# **Tokenize the training, validation, and testing bodies**\n",
        "We are now tokenizing the data that we have previously split.\n",
        "\n",
        "We are creating classes that define how to tokenize the data but this will not actually occur until the BERT model is used. The class highlights the main functionality:\n",
        "\n",
        "\n",
        "**Initialization**: Initialize the dataset with text data, URLs, labels, and tokenizer.\n",
        "\n",
        "        Args:\n",
        "        - texts (List[str]): List of email bodies.\n",
        "        - urls (List[str] or similar): Corresponding list of URLs in the emails.\n",
        "        - labels (List[int]): Labels (e.g., 0 for ham, 1 for phishing).\n",
        "        - tokenizer (BertTokenizer): Pretrained BERT tokenizer.\n",
        "        - max_length (int): Maximum sequence length for padding/truncation.\n",
        "\n",
        "\n",
        "**Retrival/Tokenization:** Retrieve a single sample from the dataset and tokenize it.\n",
        "\n",
        "        Args:\n",
        "        - idx (int): Index of the sample to fetch.\n",
        "\n",
        "        Returns:\n",
        "        - A dictionary containing:\n",
        "          - 'input_ids': token IDs for the text\n",
        "          - 'attention_mask': binary mask for padded tokens\n",
        "          - 'urls': original URL\n",
        "          - 'labels': ground truth label\n",
        "       "
      ]
    },
    {
      "cell_type": "code",
      "execution_count": null,
      "metadata": {
        "colab": {
          "base_uri": "https://localhost:8080/",
          "height": 249,
          "referenced_widgets": [
            "d6a139b8a70749f1b42235bf6e149a02",
            "dd26646a724f4606a5ebf4776ee4b88f",
            "05eb96791d894bbfab5ea49eea11658d",
            "a8a100a1160249b68bf7ef85c9603c11",
            "34b1b593841f467e98a9e3586c08f5c7",
            "24da79968e2c4e76aa6fdb55abab442a",
            "dc144a485503404d8bb7f83e4eda9c2e",
            "0dbfd80c30c74e9d9b61d59fc32a8df4",
            "5eb452d033804893a939237f06ce65c6",
            "3162e8f2c62847699e088a8a818331b5",
            "737d248743dd4437a5793d4afc2b20ea",
            "5bd220d717214128b5053c95f05f22cd",
            "7eea470b2c654400be58489af900b7b1",
            "ac3d656b30fb460c89c8e4641cfd385c",
            "1968f1b5c20c4247a246928af5e5fae4",
            "130b72a358544022b741f2f3a657987b",
            "c68646216f47425cbf4466e06c2ba047",
            "0701336625084c83bd52baff406790c5",
            "3dbb9f94509a4f6ea18ffb3792fb4925",
            "1b01737f0a3a4fe8862e9732f9cf9600",
            "99dfa5eb62ce4c1483d28bbfde5967c7",
            "2f203e71d62a49518f71e782e0347b46",
            "14e3f897202b4319a0668a2e7d052815",
            "360dbf04ffb44b0493b3b365ca1ff2a2",
            "ecd5fd6242c54a83994d7b6aa7aa1f21",
            "0a296cecf82e4d79becf5d44e30f5059",
            "4737b53a9eb7496b81c605cc9a9a8b25",
            "c485774125574bcc9d80b1f01d495db0",
            "00ad30438bc84ec69b582ef501d79c26",
            "42470e42b926462fbbbbb03ee81a4c00",
            "de8dd755c9ab4abd9cf4f751e6740eaa",
            "20b4533afa0c4a499b2f6b4bfa586e82",
            "2606135950cc469a8ea9eb9dd6bec947",
            "fdfc6a0b92f64448bf01419aa2d42f39",
            "c0404f1bf82f4970b57fe5437fcfbfde",
            "bf2b751e79a543d0993b931bc9def117",
            "0fb821262d464d48a11af9994ad293af",
            "dfac1dc4e3b54687bd5674f543d51b30",
            "bf5c24ef8fc4437483156404a7aefb76",
            "cd4f6fd5e4a3433bb4d05912cfeffec8",
            "ef93521edfec49249c3e6cb5836878b0",
            "106aef24dc184132a320885b79609dab",
            "528226633185404f9be297c9ed92ea19",
            "25914c2b13ce4f848b2e5477ba0ddf0b"
          ]
        },
        "id": "ebf7ddf6",
        "outputId": "e963d8f3-e0a3-46f1-efe4-f211fbaa8b67"
      },
      "outputs": [
        {
          "output_type": "stream",
          "name": "stderr",
          "text": [
            "/usr/local/lib/python3.11/dist-packages/huggingface_hub/utils/_auth.py:94: UserWarning: \n",
            "The secret `HF_TOKEN` does not exist in your Colab secrets.\n",
            "To authenticate with the Hugging Face Hub, create a token in your settings tab (https://huggingface.co/settings/tokens), set it as secret in your Google Colab and restart your session.\n",
            "You will be able to reuse this secret in all of your notebooks.\n",
            "Please note that authentication is recommended but still optional to access public models or datasets.\n",
            "  warnings.warn(\n"
          ]
        },
        {
          "output_type": "display_data",
          "data": {
            "text/plain": [
              "tokenizer_config.json:   0%|          | 0.00/48.0 [00:00<?, ?B/s]"
            ],
            "application/vnd.jupyter.widget-view+json": {
              "version_major": 2,
              "version_minor": 0,
              "model_id": "d6a139b8a70749f1b42235bf6e149a02"
            }
          },
          "metadata": {}
        },
        {
          "output_type": "display_data",
          "data": {
            "text/plain": [
              "vocab.txt:   0%|          | 0.00/232k [00:00<?, ?B/s]"
            ],
            "application/vnd.jupyter.widget-view+json": {
              "version_major": 2,
              "version_minor": 0,
              "model_id": "5bd220d717214128b5053c95f05f22cd"
            }
          },
          "metadata": {}
        },
        {
          "output_type": "display_data",
          "data": {
            "text/plain": [
              "tokenizer.json:   0%|          | 0.00/466k [00:00<?, ?B/s]"
            ],
            "application/vnd.jupyter.widget-view+json": {
              "version_major": 2,
              "version_minor": 0,
              "model_id": "14e3f897202b4319a0668a2e7d052815"
            }
          },
          "metadata": {}
        },
        {
          "output_type": "display_data",
          "data": {
            "text/plain": [
              "config.json:   0%|          | 0.00/570 [00:00<?, ?B/s]"
            ],
            "application/vnd.jupyter.widget-view+json": {
              "version_major": 2,
              "version_minor": 0,
              "model_id": "fdfc6a0b92f64448bf01419aa2d42f39"
            }
          },
          "metadata": {}
        }
      ],
      "source": [
        "from torch.utils.data import Dataset, DataLoader, RandomSampler, SequentialSampler\n",
        "from transformers import BertTokenizer\n",
        "\n",
        "#Load the pretrained BERT tokenizer (lowercase version of BERT)\n",
        "tokenizer = BertTokenizer.from_pretrained('bert-base-uncased')\n",
        "\n",
        "#Define a custom dataset class for phishing email detection\n",
        "class PhishingEmailDataset(Dataset):\n",
        "    def __init__(self, texts, urls, labels, tokenizer, max_length=128):\n",
        "        #Initialize the dataset with text data, URLs, labels, and tokenizer.\n",
        "        self.texts = texts\n",
        "        self.urls = urls\n",
        "        self.labels = labels\n",
        "        self.tokenizer = tokenizer\n",
        "        self.max_length = max_length\n",
        "\n",
        "    def __len__(self):\n",
        "        #Return the total number of samples in the dataset\n",
        "        return len(self.texts)\n",
        "\n",
        "    def __getitem__(self, idx):\n",
        "\n",
        "        #Retrieve a single sample from the dataset and tokenize it.\n",
        "\n",
        "        encoding = self.tokenizer(\n",
        "            self.texts[idx],              #The email body\n",
        "            truncation=True,             #Truncate if it exceeds max_length\n",
        "            padding='max_length',        #Pad to max_length\n",
        "            max_length=self.max_length,  #Set max sequence length\n",
        "            return_tensors='pt'          #Return PyTorch tensors\n",
        "        )\n",
        "        return {\n",
        "            'input_ids': encoding['input_ids'].squeeze(),            #Token IDs (squeezed to remove extra dimension)\n",
        "            'attention_mask': encoding['attention_mask'].squeeze(),  #Attention mask (squeezed)\n",
        "            'urls': self.urls[idx],                                  #Corresponding URL\n",
        "            'labels': self.labels[idx]                               #Label for classification\n",
        "        }\n",
        "\n",
        "#These assume you have train_bodies, train_urls, and train_labels already defined\n",
        "train_dataset = PhishingEmailDataset(train_bodies, train_urls, train_labels, tokenizer)\n",
        "val_dataset   = PhishingEmailDataset(val_bodies, val_urls, val_labels, tokenizer)\n",
        "test_dataset  = PhishingEmailDataset(test_bodies, test_urls, test_labels, tokenizer)\n",
        "\n",
        "\n",
        "batch_size = 8  #Number of samples per batch\n",
        "\n",
        "#For training\n",
        "train_loader = DataLoader(\n",
        "    train_dataset,\n",
        "    sampler=RandomSampler(train_dataset),\n",
        "    batch_size=batch_size\n",
        ")\n",
        "\n",
        "#For validation and testing\n",
        "val_loader = DataLoader(\n",
        "    val_dataset,\n",
        "    sampler=RandomSampler(val_dataset),\n",
        "    batch_size=batch_size\n",
        ")\n",
        "\n",
        "test_loader = DataLoader(\n",
        "    test_dataset,\n",
        "    sampler=RandomSampler(test_dataset),\n",
        "    batch_size=batch_size\n",
        ")\n"
      ]
    },
    {
      "cell_type": "markdown",
      "metadata": {
        "id": "Eh4UwW6cRhwd"
      },
      "source": [
        "---\n",
        "# **Converting the Tokenized Data to Complete Tensors**\n"
      ]
    },
    {
      "cell_type": "markdown",
      "metadata": {
        "id": "NLDr7tB58DH9"
      },
      "source": [
        "# Tokenization for Logisitic Regression\n",
        "\n",
        "This implementation of tokenization will be used specifically for the logistic regression model. The implementation steps include:\n",
        "  1. Vectorizing the sentences\n",
        "  2. Counting the occurances of words\n",
        "  3. Vectorizing the numbers for the corresponding words"
      ]
    },
    {
      "cell_type": "code",
      "execution_count": null,
      "metadata": {
        "id": "Y60AkIXn9pKK"
      },
      "outputs": [],
      "source": [
        "from sklearn.feature_extraction.text import CountVectorizer\n",
        "\n",
        "vectorizer = CountVectorizer(ngram_range=(1,3))\n",
        "\n",
        "train_bow = vectorizer.fit_transform(train_bodies)\n",
        "val_bow = vectorizer.transform(val_bodies)\n",
        "test_bow = vectorizer.transform(test_bodies)"
      ]
    },
    {
      "cell_type": "markdown",
      "metadata": {
        "id": "zONEJb94brp1"
      },
      "source": [
        "# **Implementing the Logistic Regression Model**\n",
        "Logistic Regression is a widely used supervised learning algorithm for binary classification tasks. We use Logistic Regression as a baseline classifier for phishing email detection, using Bag-of-Words (BoW) features extracted from the dataset. This helps us establish a reference accuracy before using more complex models like BERT.\n",
        "\n",
        "In the code:\n",
        "- The model is trained on the BoW training data\n",
        "- We calculate the following statistics to ensure that the model is working and correctly classifying the emails as safe and phishing:\n",
        "  - Validation Accuracy\n",
        "  - Confusion Matrix\n",
        "  - Accuracy\n",
        "  - Precision\n",
        "  - Recall\n",
        "  - F1 Score"
      ]
    },
    {
      "cell_type": "code",
      "execution_count": null,
      "metadata": {
        "id": "S1yTGcB71BBr"
      },
      "outputs": [],
      "source": [
        "from sklearn.linear_model import LogisticRegression\n",
        "from sklearn.model_selection import train_test_split\n",
        "from sklearn.metrics import confusion_matrix\n",
        "from sklearn.metrics import ConfusionMatrixDisplay\n",
        "import matplotlib.pyplot as plt\n",
        "from sklearn.metrics import accuracy_score"
      ]
    },
    {
      "cell_type": "code",
      "execution_count": null,
      "metadata": {
        "colab": {
          "base_uri": "https://localhost:8080/"
        },
        "id": "Fq1Drk3ub_RQ",
        "outputId": "183503d8-f525-42dd-a82a-774ba5378616"
      },
      "outputs": [
        {
          "output_type": "stream",
          "name": "stdout",
          "text": [
            "Validation Accuracy (Logistic Regression Baseline): 98.16%\n"
          ]
        }
      ],
      "source": [
        "# Initialize Logistic Regression with suitable parameters\n",
        "log_reg = LogisticRegression(max_iter=1000, random_state=42)\n",
        "\n",
        "# Fit the model on Bag-of-Words training data\n",
        "log_reg.fit(train_bow, train_labels.numpy())\n",
        "\n",
        "# Predict on validation set\n",
        "val_preds = log_reg.predict(val_bow)\n",
        "\n",
        "# Calculate validation accuracy\n",
        "val_accuracy = accuracy_score(val_labels.numpy(), val_preds)\n",
        "print(f\"Validation Accuracy (Logistic Regression Baseline): {val_accuracy * 100:.2f}%\")"
      ]
    },
    {
      "cell_type": "code",
      "execution_count": null,
      "metadata": {
        "colab": {
          "base_uri": "https://localhost:8080/",
          "height": 553
        },
        "id": "OGop5mcg1JCE",
        "outputId": "7becacd1-c21d-4131-c100-0b484c69fc55"
      },
      "outputs": [
        {
          "output_type": "stream",
          "name": "stdout",
          "text": [
            "[[4458  475]\n",
            " [ 133 5206]]\n",
            "Accuracy: 0.940809968847352\n"
          ]
        },
        {
          "output_type": "display_data",
          "data": {
            "text/plain": [
              "<Figure size 640x480 with 2 Axes>"
            ],
            "image/png": "[encoded data removed]"
          },
          "metadata": {}
        },
        {
          "output_type": "stream",
          "name": "stdout",
          "text": [
            "Precision: 0.9163879598662207\n",
            "Recall: 0.9750889679715302\n",
            "F1 Score: 0.9448275862068964\n"
          ]
        }
      ],
      "source": [
        "baselineModel = LogisticRegression(max_iter=1000, random_state=0)\n",
        "\n",
        "baselineModel.fit(train_bow, train_labels) #train the model\n",
        "\n",
        "prediction = baselineModel.predict(test_bow) #predict class labels for samples in test dataset\n",
        "\n",
        "#compute confusion matrix\n",
        "confusionMatrix = confusion_matrix(test_labels, prediction)\n",
        "print(confusionMatrix)\n",
        "\n",
        "#compute accuracy\n",
        "accuracy = (confusionMatrix[1][1] + confusionMatrix[0][0])/(confusionMatrix[1][1] + confusionMatrix[0][0] + confusionMatrix[0][1] + confusionMatrix[1][0])\n",
        "print(f\"Accuracy: {accuracy}\")\n",
        "\n",
        "#plot confusion matrix representation\n",
        "display = ConfusionMatrixDisplay(confusion_matrix = confusionMatrix, display_labels=[False, True])\n",
        "display.plot()\n",
        "plt.show()\n",
        "\n",
        "#compute precision\n",
        "precision = confusionMatrix[1][1]/(confusionMatrix[1][1] + confusionMatrix[0][1])\n",
        "print(f\"Precision: {precision}\")\n",
        "\n",
        "#compute recall\n",
        "recall = confusionMatrix[1][1]/(confusionMatrix[1][1] + confusionMatrix[1][0])\n",
        "print(f\"Recall: {recall}\")\n",
        "\n",
        "#compute F1 score\n",
        "f1 = 2*(precision*recall)/(precision + recall)\n",
        "print(f\"F1 Score: {f1}\")"
      ]
    },
    {
      "cell_type": "markdown",
      "metadata": {
        "id": "jIMTyCswhx62"
      },
      "source": [
        "---\n",
        "#**Apply Pretrained BERT Model**\n",
        "\n",
        "- Initialize Pretrained BERT Model Transformer howver make a custom classifier\n",
        "- Use AdamW Optimizer for optimization and loss\n",
        "- Define Dataloaders from tensors\n",
        "- Train the Model\n",
        "- Use Early Stopping in pretrained model"
      ]
    },
    {
      "cell_type": "code",
      "execution_count": null,
      "metadata": {
        "id": "e2f21a36"
      },
      "outputs": [],
      "source": [
        "\n",
        "import torch.nn as nn\n",
        "from transformers import DistilBertModel, DistilBertTokenizer\n",
        "\n",
        "#using distil bert to reduce over fitting\n",
        "class DistilBertClassifier(nn.Module):\n",
        "    def __init__(self, dropout_rate=0.3, num_labels=2):\n",
        "        super(DistilBertClassifier, self).__init__()\n",
        "        self.bert = DistilBertModel.from_pretrained('distilbert-base-uncased')\n",
        "        self.dropout = nn.Dropout(dropout_rate)\n",
        "        self.classifier = nn.Linear(self.bert.config.hidden_size, num_labels)\n",
        "\n",
        "    def forward(self, input_ids, attention_mask=None, labels=None):\n",
        "        outputs = self.bert(input_ids=input_ids, attention_mask=attention_mask)\n",
        "        hidden_state = outputs.last_hidden_state[:, 0]  # Take [CLS] token\n",
        "        dropped = self.dropout(hidden_state)\n",
        "        logits = self.classifier(dropped)\n",
        "\n",
        "        loss = None\n",
        "        if labels is not None:\n",
        "            loss_fn = nn.CrossEntropyLoss(label_smoothing=0.1)  # label smoothing added\n",
        "            loss = loss_fn(logits, labels)\n",
        "\n",
        "        return {'loss': loss, 'logits': logits}\n",
        "\n"
      ]
    },
    {
      "cell_type": "code",
      "execution_count": null,
      "metadata": {
        "colab": {
          "base_uri": "https://localhost:8080/",
          "height": 133,
          "referenced_widgets": [
            "483eaa2127694d8d990069f5dc1d50c1",
            "e4649bc5a7c74770acdcd584030d6a5f",
            "a023cb67bea1442280ed2bda2c3e95ec",
            "3566702d809c494b84f23ba1908ec0b2",
            "61a999f9a0324b7781eb1521f9e703f6",
            "e3bfb969aaac4c53914a7a99eb87be7b",
            "8f2d600192fa4b3c80ae4b3d98b6aad1",
            "8e2ae66abe5e4d759a000102e22b1aad",
            "4dc57d3260be4934976cd1dd784f315d",
            "f9c0f050ed7f41f4b081b380c10582be",
            "35b3c38544704954a76d3457d992f0b0",
            "6d26d58ef7a24777a6cd79bd1d9d2024",
            "2561abbb7aba47f1ac6ade33864b63d5",
            "9be877d4084e4a978d1536af178b5ba6",
            "101ffc6a8ad04a3fadc071b33974c0a5",
            "20f3cfab647c4be498e7107f55688ae4",
            "d084bca626414676b4ce53ddc69ab2fc",
            "a2746072393441a58cb46242983c39d1",
            "16d89c7954d54aada6886e5bd7af864f",
            "bb8035b2cded4ab8b202694e8cbd0b25",
            "7d2a803599344df28b905e8abbb0e466",
            "6ad4ed0777a144beaca2637e85129f5e"
          ]
        },
        "id": "8f92555f",
        "outputId": "97f65bf3-6309-4e02-c5d3-ac7ed421fb27"
      },
      "outputs": [
        {
          "output_type": "display_data",
          "data": {
            "text/plain": [
              "config.json:   0%|          | 0.00/483 [00:00<?, ?B/s]"
            ],
            "application/vnd.jupyter.widget-view+json": {
              "version_major": 2,
              "version_minor": 0,
              "model_id": "483eaa2127694d8d990069f5dc1d50c1"
            }
          },
          "metadata": {}
        },
        {
          "output_type": "display_data",
          "data": {
            "text/plain": [
              "model.safetensors:   0%|          | 0.00/268M [00:00<?, ?B/s]"
            ],
            "application/vnd.jupyter.widget-view+json": {
              "version_major": 2,
              "version_minor": 0,
              "model_id": "6d26d58ef7a24777a6cd79bd1d9d2024"
            }
          },
          "metadata": {}
        },
        {
          "output_type": "stream",
          "name": "stdout",
          "text": [
            "Epoch 1: Train loss = 0.2700, Val loss = 0.2233, Train error = 0.0465, Val error = 0.0166\n",
            "Epoch 2: Train loss = 0.2136, Val loss = 0.2146, Train error = 0.0083, Val error = 0.0099\n",
            "Epoch 3: Train loss = 0.2063, Val loss = 0.2129, Train error = 0.0047, Val error = 0.0092\n"
          ]
        }
      ],
      "source": [
        "\n",
        "#Instantiate model\n",
        "model = DistilBertClassifier(dropout_rate=0.3, num_labels=2).to(bert_device)\n",
        "\n",
        "from transformers import get_linear_schedule_with_warmup\n",
        "from torch.optim import AdamW\n",
        "\n",
        "epochs = 3\n",
        "optimizer = AdamW(model.parameters(), lr=1e-5, weight_decay=2e-5)\n",
        "total_steps = len(train_loader) * epochs\n",
        "scheduler = get_linear_schedule_with_warmup(\n",
        "    optimizer,\n",
        "    num_warmup_steps=int(0.1 * total_steps),\n",
        "    num_training_steps=total_steps\n",
        ")\n",
        "\n",
        "best_val_error = float('inf')\n",
        "patience = 2\n",
        "patience_counter = 0\n",
        "\n",
        "train_acc_list = []\n",
        "val_acc_list = []\n",
        "train_loss_list = []\n",
        "val_loss_list = []\n",
        "train_err_list = []\n",
        "val_err_list = []\n",
        "\n",
        "for epoch in range(epochs):\n",
        "    model.train()\n",
        "    total_train_loss = 0\n",
        "    total_train_err = 0\n",
        "\n",
        "    for step, batch in enumerate(train_loader):\n",
        "        b_input_ids = batch['input_ids'].to(bert_device)\n",
        "        b_attention_mask = batch['attention_mask'].to(bert_device)\n",
        "        b_labels = batch['labels'].to(bert_device)\n",
        "\n",
        "        optimizer.zero_grad()\n",
        "        outputs = model(input_ids=b_input_ids, attention_mask=b_attention_mask, labels=b_labels)\n",
        "        loss = outputs['loss']\n",
        "        logits = outputs['logits']\n",
        "\n",
        "        loss.backward()\n",
        "        optimizer.step()\n",
        "        scheduler.step()\n",
        "\n",
        "        total_train_loss += loss.item()\n",
        "        preds = logits.argmax(dim=1)\n",
        "        total_train_err += (preds != b_labels).sum().item()\n",
        "\n",
        "    avg_train_loss = total_train_loss / len(train_loader)\n",
        "    train_error = total_train_err / len(train_loader.dataset)\n",
        "    train_accuracy = 1 - train_error\n",
        "\n",
        "    train_loss_list.append(avg_train_loss)\n",
        "    train_err_list.append(train_error)\n",
        "    train_acc_list.append(train_accuracy)\n",
        "\n",
        "    model.eval()\n",
        "    total_val_loss = 0\n",
        "    total_val_err = 0\n",
        "\n",
        "    with torch.no_grad():\n",
        "        for batch in val_loader:\n",
        "            b_input_ids = batch['input_ids'].to(bert_device)\n",
        "            b_attention_mask = batch['attention_mask'].to(bert_device)\n",
        "            b_labels = batch['labels'].to(bert_device)\n",
        "\n",
        "            outputs = model(input_ids=b_input_ids, attention_mask=b_attention_mask, labels=b_labels)\n",
        "            loss = outputs['loss']\n",
        "            logits = outputs['logits']\n",
        "\n",
        "            total_val_loss += loss.item()\n",
        "            preds = logits.argmax(dim=1)\n",
        "            total_val_err += (preds != b_labels).sum().item()\n",
        "\n",
        "    avg_val_loss = total_val_loss / len(val_loader)\n",
        "    val_error = total_val_err / len(val_loader.dataset)\n",
        "    val_accuracy = 1 - val_error\n",
        "\n",
        "    val_loss_list.append(avg_val_loss)\n",
        "    val_err_list.append(val_error)\n",
        "    val_acc_list.append(val_accuracy)\n",
        "\n",
        "    print(f\"Epoch {epoch+1}: Train loss = {avg_train_loss:.4f}, Val loss = {avg_val_loss:.4f}, Train error = {train_error:.4f}, Val error = {val_error:.4f}\")\n",
        "\n",
        "    if val_error < best_val_error:\n",
        "        best_val_error = val_error\n",
        "        patience_counter = 0\n",
        "        torch.save(model.state_dict(), 'best_model.pt')\n",
        "    else:\n",
        "        patience_counter += 1\n",
        "        if patience_counter >= patience:\n",
        "            print(\"Early stopping triggered!\")\n",
        "            break\n"
      ]
    },
    {
      "cell_type": "code",
      "execution_count": null,
      "metadata": {
        "colab": {
          "base_uri": "https://localhost:8080/",
          "height": 992
        },
        "id": "PZFjQiuZ0Ar7",
        "outputId": "a233e491-3c21-49c5-ff61-0d8839037995"
      },
      "outputs": [
        {
          "output_type": "display_data",
          "data": {
            "text/plain": [
              "<Figure size 1200x500 with 2 Axes>"
            ],
            "image/png": "[encoded data removed]"
          },
          "metadata": {}
        },
        {
          "output_type": "display_data",
          "data": {
            "text/plain": [
              "<Figure size 640x480 with 1 Axes>"
            ],
            "image/png": "[encoded data removed]"
          },
          "metadata": {}
        },
        {
          "output_type": "stream",
          "name": "stdout",
          "text": [
            "Final Train Accuracy: 99.53%\n",
            "Final Val Accuracy: 99.08%\n"
          ]
        }
      ],
      "source": [
        "import matplotlib.pyplot as plt\n",
        "\n",
        "epochs_range = range(1, epochs + 1)\n",
        "\n",
        "plt.figure(figsize=(12,5))\n",
        "\n",
        "# Plot loss\n",
        "plt.subplot(1, 2, 1)\n",
        "plt.plot(epochs_range, train_loss_list, label='Train Loss')\n",
        "plt.plot(epochs_range, val_loss_list, label='Val Loss')\n",
        "plt.xlabel('Epoch')\n",
        "plt.ylabel('Loss')\n",
        "plt.title('Loss over epochs')\n",
        "plt.legend()\n",
        "\n",
        "# Plot error\n",
        "plt.subplot(1, 2, 2)\n",
        "plt.plot(epochs_range, train_err_list, label='Train Error')\n",
        "plt.plot(epochs_range, val_err_list, label='Val Error')\n",
        "plt.xlabel('Epoch')\n",
        "plt.ylabel('Error rate')\n",
        "plt.title('Error over epochs')\n",
        "plt.legend()\n",
        "\n",
        "plt.show()\n",
        "\n",
        "\n",
        "# Plot Accuracy\n",
        "plt.subplot(1, 3, 3)\n",
        "plt.plot(epochs_range, train_acc_list, label='Train Accuracy')\n",
        "plt.plot(epochs_range, val_acc_list, label='Val Accuracy')\n",
        "plt.xlabel('Epoch')\n",
        "plt.ylabel('Accuracy')\n",
        "plt.title('Accuracy over Epochs')\n",
        "plt.legend()\n",
        "\n",
        "plt.tight_layout()\n",
        "plt.show()\n",
        "\n",
        "print(f\"Final Train Accuracy: {train_acc_list[-1]*100:.2f}%\")\n",
        "print(f\"Final Val Accuracy: {val_acc_list[-1]*100:.2f}%\")\n"
      ]
    },
    {
      "cell_type": "code",
      "execution_count": null,
      "metadata": {
        "id": "5MqW1pAzC-2p"
      },
      "outputs": [],
      "source": [
        "all_preds = []\n",
        "all_labels = []\n",
        "\n",
        "model.eval()\n",
        "with torch.no_grad():\n",
        "    for batch in val_loader:\n",
        "        input_ids = batch['input_ids'].to(bert_device)\n",
        "        attention_mask = batch['attention_mask'].to(bert_device)\n",
        "        labels = batch['labels'].to(bert_device)\n",
        "\n",
        "        outputs = model(input_ids=input_ids, attention_mask=attention_mask)\n",
        "        logits = outputs['logits']\n",
        "        preds = logits.argmax(dim=1)\n",
        "\n",
        "        all_preds.extend(preds.cpu().tolist())\n",
        "        all_labels.extend(labels.cpu().tolist())\n"
      ]
    },
    {
      "cell_type": "code",
      "execution_count": null,
      "metadata": {
        "colab": {
          "base_uri": "https://localhost:8080/"
        },
        "id": "N2vi1bDpC_95",
        "outputId": "973d6a14-029e-4859-bea4-90f90e85a4d9"
      },
      "outputs": [
        {
          "output_type": "stream",
          "name": "stdout",
          "text": [
            "False Positives: (0.59%)\n",
            "False Negatives: (0.33%)\n"
          ]
        }
      ],
      "source": [
        "import numpy as np\n",
        "\n",
        "all_preds = np.array(all_preds)\n",
        "all_labels = np.array(all_labels)\n",
        "\n",
        "false_positives = np.sum((all_preds == 1) & (all_labels == 0))\n",
        "false_negatives = np.sum((all_preds == 0) & (all_labels == 1))\n",
        "\n",
        "total_samples = len(all_labels)\n",
        "\n",
        "fp_percent = 100 * false_positives / total_samples\n",
        "fn_percent = 100 * false_negatives / total_samples\n",
        "\n",
        "print(f\"False Positives: ({fp_percent:.2f}%)\")\n",
        "print(f\"False Negatives: ({fn_percent:.2f}%)\")\n"
      ]
    },
    {
      "cell_type": "markdown",
      "metadata": {
        "id": "lwqWlVRHZewQ"
      },
      "source": [
        "---\n",
        "#Evaluation\n",
        "Testing"
      ]
    },
    {
      "cell_type": "code",
      "execution_count": null,
      "metadata": {
        "colab": {
          "base_uri": "https://localhost:8080/"
        },
        "id": "f3wd4gcYaYeL",
        "outputId": "d246de3c-3240-4974-c5d3-0015410f5405"
      },
      "outputs": [
        {
          "output_type": "execute_result",
          "data": {
            "text/plain": [
              "DistilBertClassifier(\n",
              "  (bert): DistilBertModel(\n",
              "    (embeddings): Embeddings(\n",
              "      (word_embeddings): Embedding(30522, 768, padding_idx=0)\n",
              "      (position_embeddings): Embedding(512, 768)\n",
              "      (LayerNorm): LayerNorm((768,), eps=1e-12, elementwise_affine=True)\n",
              "      (dropout): Dropout(p=0.1, inplace=False)\n",
              "    )\n",
              "    (transformer): Transformer(\n",
              "      (layer): ModuleList(\n",
              "        (0-5): 6 x TransformerBlock(\n",
              "          (attention): DistilBertSdpaAttention(\n",
              "            (dropout): Dropout(p=0.1, inplace=False)\n",
              "            (q_lin): Linear(in_features=768, out_features=768, bias=True)\n",
              "            (k_lin): Linear(in_features=768, out_features=768, bias=True)\n",
              "            (v_lin): Linear(in_features=768, out_features=768, bias=True)\n",
              "            (out_lin): Linear(in_features=768, out_features=768, bias=True)\n",
              "          )\n",
              "          (sa_layer_norm): LayerNorm((768,), eps=1e-12, elementwise_affine=True)\n",
              "          (ffn): FFN(\n",
              "            (dropout): Dropout(p=0.1, inplace=False)\n",
              "            (lin1): Linear(in_features=768, out_features=3072, bias=True)\n",
              "            (lin2): Linear(in_features=3072, out_features=768, bias=True)\n",
              "            (activation): GELUActivation()\n",
              "          )\n",
              "          (output_layer_norm): LayerNorm((768,), eps=1e-12, elementwise_affine=True)\n",
              "        )\n",
              "      )\n",
              "    )\n",
              "  )\n",
              "  (dropout): Dropout(p=0.3, inplace=False)\n",
              "  (classifier): Linear(in_features=768, out_features=2, bias=True)\n",
              ")"
            ]
          },
          "metadata": {},
          "execution_count": 23
        }
      ],
      "source": [
        "# Load the best model\n",
        "model.load_state_dict(torch.load('best_model.pt'))\n",
        "model.eval()\n"
      ]
    },
    {
      "cell_type": "code",
      "execution_count": null,
      "metadata": {
        "id": "ftKTVcEuafW6",
        "colab": {
          "base_uri": "https://localhost:8080/"
        },
        "outputId": "f05df23a-6d8e-4ff2-d0d9-6da996269f39"
      },
      "outputs": [
        {
          "output_type": "stream",
          "name": "stdout",
          "text": [
            "Test Accuracy: 0.9390\n"
          ]
        }
      ],
      "source": [
        "total_test_err = 0\n",
        "all_preds = []\n",
        "all_labels = []\n",
        "\n",
        "with torch.no_grad():\n",
        "    for batch in test_loader:\n",
        "        b_input_ids = batch['input_ids'].to(bert_device)\n",
        "        b_attention_mask = batch['attention_mask'].to(bert_device)\n",
        "        b_labels = batch['labels'].to(bert_device)\n",
        "\n",
        "        outputs = model(input_ids=b_input_ids, attention_mask=b_attention_mask, labels=b_labels)\n",
        "        logits = outputs['logits']\n",
        "\n",
        "        preds = logits.argmax(dim=1)\n",
        "        all_preds.extend(preds.cpu().numpy())\n",
        "        all_labels.extend(b_labels.cpu().numpy())\n",
        "\n",
        "        total_test_err += (preds != b_labels).sum().item()\n",
        "\n",
        "test_error = total_test_err / len(test_loader.dataset)\n",
        "test_accuracy = 1 - test_error\n",
        "\n",
        "print(f\"Test Accuracy: {test_accuracy:.4f}\")\n"
      ]
    },
    {
      "cell_type": "code",
      "execution_count": null,
      "metadata": {
        "colab": {
          "base_uri": "https://localhost:8080/",
          "height": 472
        },
        "id": "cmk-kh7NaggQ",
        "outputId": "623044a3-ac0a-42c6-ab63-60ff989a8719"
      },
      "outputs": [
        {
          "output_type": "display_data",
          "data": {
            "text/plain": [
              "<Figure size 640x480 with 1 Axes>"
            ],
            "image/png": "[encoded data removed]"
          },
          "metadata": {}
        }
      ],
      "source": [
        "import matplotlib.pyplot as plt\n",
        "\n",
        "epochs_range = range(1, len(train_acc_list) + 1)\n",
        "\n",
        "plt.plot(epochs_range, train_acc_list, label='Train Accuracy')\n",
        "plt.plot(epochs_range, val_acc_list, label='Validation Accuracy')\n",
        "plt.axhline(y=test_accuracy, color='red', linestyle='--', label='Test Accuracy')\n",
        "\n",
        "plt.xlabel('Epoch')\n",
        "plt.ylabel('Accuracy')\n",
        "plt.title('Model Accuracy over Epochs')\n",
        "plt.legend()\n",
        "plt.grid(True)\n",
        "plt.show()"
      ]
    },
    {
      "cell_type": "code",
      "execution_count": null,
      "metadata": {
        "colab": {
          "base_uri": "https://localhost:8080/",
          "height": 553
        },
        "id": "pXYPRuVXI20X",
        "outputId": "da753159-022d-4fd1-c0af-1a37aba96076"
      },
      "outputs": [
        {
          "output_type": "stream",
          "name": "stdout",
          "text": [
            "False Positives: 449 (4.37%)\n",
            "False Negatives: 178 (1.73%)\n",
            "BERT Accuracy: 0.9389602803738317\n"
          ]
        },
        {
          "output_type": "display_data",
          "data": {
            "text/plain": [
              "<Figure size 640x480 with 2 Axes>"
            ],
            "image/png": "[encoded data removed]"
          },
          "metadata": {}
        },
        {
          "output_type": "stream",
          "name": "stdout",
          "text": [
            "BERT Precision: 0.919964349376114\n",
            "BERT Recall: 0.9666604233002435\n",
            "BERT F1 Score: 0.9448275862068964\n"
          ]
        }
      ],
      "source": [
        "from sklearn.metrics import confusion_matrix\n",
        "\n",
        "# Create confusion matrix from labels and predictions\n",
        "cm = confusion_matrix(all_labels, all_preds)\n",
        "\n",
        "# Assuming binary classification: cm = [[TN, FP], [FN, TP]]\n",
        "tn, fp, fn, tp = cm.ravel()\n",
        "\n",
        "total_samples = len(all_labels)\n",
        "\n",
        "# Calculate percentages\n",
        "false_positive_pct = (fp / total_samples) * 100\n",
        "false_negative_pct = (fn / total_samples) * 100\n",
        "\n",
        "print(f\"False Positives: {fp} ({false_positive_pct:.2f}%)\")\n",
        "print(f\"False Negatives: {fn} ({false_negative_pct:.2f}%)\")\n",
        "\n",
        "#compute accuracy\n",
        "accuracy_BERT = (cm[1][1] + cm[0][0])/(cm[1][1] + cm[0][0] + cm[0][1] + cm[1][0])\n",
        "print(f\"BERT Accuracy: {accuracy_BERT}\")\n",
        "\n",
        "#plot confusion matrix representation\n",
        "display_BERT = ConfusionMatrixDisplay(confusion_matrix = cm, display_labels=[False, True])\n",
        "display_BERT.plot()\n",
        "plt.show()\n",
        "\n",
        "#compute precision\n",
        "precision_BERT = cm[1][1]/(cm[1][1] + cm[0][1])\n",
        "print(f\"BERT Precision: {precision_BERT}\")\n",
        "\n",
        "#compute recall\n",
        "recall_BERT = cm[1][1]/(cm[1][1] + cm[1][0])\n",
        "print(f\"BERT Recall: {recall_BERT}\")\n",
        "\n",
        "#compute F1 score\n",
        "f1_BERT = 2*(precision_BERT*recall_BERT)/(precision_BERT + recall_BERT)\n",
        "print(f\"BERT F1 Score: {f1}\")\n"
      ]
    },
    {
      "cell_type": "code",
      "execution_count": null,
      "metadata": {
        "id": "xtLoB8QHJFuf"
      },
      "outputs": [],
      "source": [
        "def predict_email(model, tokenizer, text, device):\n",
        "    model.eval()\n",
        "\n",
        "    # Tokenize input\n",
        "    inputs = tokenizer(\n",
        "        text,\n",
        "        padding='max_length',\n",
        "        truncation=True,\n",
        "        max_length=512,\n",
        "        return_tensors=\"pt\"\n",
        "    ).to(device)\n",
        "\n",
        "    # Remove token_type_ids if it exists\n",
        "    if \"token_type_ids\" in inputs:\n",
        "        inputs.pop(\"token_type_ids\")\n",
        "\n",
        "    with torch.no_grad():\n",
        "        #pass tokenized inputs through model to get the outputs\n",
        "        outputs = model(**inputs)\n",
        "        #extract logits from model output\n",
        "        logits = outputs['logits'] if isinstance(outputs, dict) else outputs\n",
        "        #apply softmax to logits from model to convert them into prob. scores for phishing/non phishing\n",
        "        probs = torch.nn.functional.softmax(logits, dim=1)\n",
        "        #determine which class the result belongs in\n",
        "        predicted_class = torch.argmax(probs, dim=1).item()\n",
        "        confidence = probs.squeeze().tolist()\n",
        "\n",
        "    #convert class labels into human readable format\n",
        "    label_map = {0: \"Not Phishing\", 1: \"Phishing\"}\n",
        "\n",
        "    print(f\"Prediction: {label_map[predicted_class]}\")\n",
        "    print(f\"Confidence Scores: \\nNot Phishing- {confidence[0]*100:.2f}% \\nPhishing- {confidence[1]*100:.2f}%\")\n",
        "\n",
        "    return predicted_class, confidence\n"
      ]
    },
    {
      "cell_type": "code",
      "execution_count": null,
      "metadata": {
        "id": "WWJfdrVOJ2iW",
        "colab": {
          "base_uri": "https://localhost:8080/"
        },
        "outputId": "b66168be-5a79-4f82-9756-03494d913d6d"
      },
      "outputs": [
        {
          "output_type": "stream",
          "name": "stdout",
          "text": [
            "Prediction: Phishing\n",
            "Confidence Scores: \n",
            "Not Phishing: 3.87% \n",
            "Phishing: 96.13%\n"
          ]
        },
        {
          "output_type": "execute_result",
          "data": {
            "text/plain": [
              "(1, [0.038727886974811554, 0.9612720608711243])"
            ]
          },
          "metadata": {},
          "execution_count": 28
        }
      ],
      "source": [
        "#Example with real phishing mail from my father's inbox (not in test eval dataset)\n",
        "email_text = \"From: Ms.Kadulina <gutierrezmm@cvh.edu.mx> Date: Wed, Jul 23, 2025 at 11:01 AM Subject: Awaiting Your Response To: Recipients <gutierrezmm@cvh.edu.mx> I'm Yulia Kadulina from Ukrsibbank Ukraine.I have an urgent opportunity for you that would be of great benefits. Please Get back ASAP. Thanks, Ms.Kadulina\"\n",
        "\n",
        "predict_email(model, tokenizer, email_text, bert_device)\n",
        "\n"
      ]
    },
    {
      "cell_type": "code",
      "execution_count": null,
      "metadata": {
        "id": "udwvOIImLYB3",
        "colab": {
          "base_uri": "https://localhost:8080/"
        },
        "outputId": "f0c4d7b5-47ec-4f55-c472-5630d0a89d75"
      },
      "outputs": [
        {
          "output_type": "stream",
          "name": "stdout",
          "text": [
            "Prediction: Not Phishing\n",
            "Confidence Scores: \n",
            "Not Phishing: 68.81% \n",
            "Phishing: 31.19%\n"
          ]
        },
        {
          "output_type": "execute_result",
          "data": {
            "text/plain": [
              "(0, [0.6880588531494141, 0.31194111704826355])"
            ]
          },
          "metadata": {},
          "execution_count": 29
        }
      ],
      "source": [
        "#Example with real non-phishing mail from my from my mom inbox (not in test eval dataset)\n",
        "\n",
        "email_text = \"From: Rajeshwari Sarkar <rajeshwari.sarkar@gmail.com> Date: Sun, Mar 23 2025 at 2:16 PM Subject: Update Resume The resume Raj Sarkar is my existing one. I need to put it in a format that focuses on skills rather than experience. Example attached. My skills Are Cloud Transformation , Vendor Management , Azure - Databricks - Snowflake , \"\n",
        "predict_email(model, tokenizer, email_text, bert_device)\n"
      ]
    },
    {
      "cell_type": "markdown",
      "metadata": {
        "id": "6y67GCtsBusT"
      },
      "source": [
        "# Cleaning up RAM usage **(Place this block at the bottom of the code for now please)**\n",
        "We are going to clean up some data to prevent high usage of memory. Please note, you can only run this cell once if you don't reinstantiate these variables"
      ]
    },
    {
      "cell_type": "code",
      "execution_count": null,
      "metadata": {
        "id": "XrtdhicOB4oJ",
        "colab": {
          "base_uri": "https://localhost:8080/"
        },
        "outputId": "c72b4adb-b40d-4097-9bb9-7cc15c88dc41"
      },
      "outputs": [
        {
          "output_type": "execute_result",
          "data": {
            "text/plain": [
              "10037"
            ]
          },
          "metadata": {},
          "execution_count": 30
        }
      ],
      "source": [
        "import gc\n",
        "\n",
        "del train_urls, val_urls, test_urls\n",
        "del train_labels, val_labels, test_labels\n",
        "del train_dataset, val_dataset, test_dataset\n",
        "del train_loader, val_loader, test_loader\n",
        "\n",
        "gc.collect()"
      ]
    }
  ],
  "metadata": {
    "accelerator": "GPU",
    "colab": {
      "gpuType": "T4",
      "provenance": []
    },
    "kernelspec": {
      "display_name": "Python 3",
      "name": "python3"
    },
    "language_info": {
      "name": "python"
    }
  },
  "nbformat": 4,
  "nbformat_minor": 0
}